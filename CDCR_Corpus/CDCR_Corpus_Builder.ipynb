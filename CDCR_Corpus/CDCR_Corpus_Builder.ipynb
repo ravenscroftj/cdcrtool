{
  "nbformat": 4,
  "nbformat_minor": 0,
  "metadata": {
    "colab": {
      "name": "CDCR Corpus Builder.ipynb",
      "provenance": [],
      "collapsed_sections": [],
      "toc_visible": true
    },
    "kernelspec": {
      "name": "python3",
      "display_name": "Python 3"
    },
    "accelerator": "GPU",
    "widgets": {
      "application/vnd.jupyter.widget-state+json": {
        "d4d9bdf558984e78bd3f1ed5a31d590a": {
          "model_module": "@jupyter-widgets/controls",
          "model_name": "HBoxModel",
          "state": {
            "_view_name": "HBoxView",
            "_dom_classes": [],
            "_model_name": "HBoxModel",
            "_view_module": "@jupyter-widgets/controls",
            "_model_module_version": "1.5.0",
            "_view_count": null,
            "_view_module_version": "1.5.0",
            "box_style": "",
            "layout": "IPY_MODEL_573863dee716419499e08fd9c0380f1d",
            "_model_module": "@jupyter-widgets/controls",
            "children": [
              "IPY_MODEL_02131aecdedc476e8406252e56d9a6a0",
              "IPY_MODEL_30de4b3ca5cd4a809ebcba878e80cba2"
            ]
          }
        },
        "573863dee716419499e08fd9c0380f1d": {
          "model_module": "@jupyter-widgets/base",
          "model_name": "LayoutModel",
          "state": {
            "_view_name": "LayoutView",
            "grid_template_rows": null,
            "right": null,
            "justify_content": null,
            "_view_module": "@jupyter-widgets/base",
            "overflow": null,
            "_model_module_version": "1.2.0",
            "_view_count": null,
            "flex_flow": null,
            "width": null,
            "min_width": null,
            "border": null,
            "align_items": null,
            "bottom": null,
            "_model_module": "@jupyter-widgets/base",
            "top": null,
            "grid_column": null,
            "overflow_y": null,
            "overflow_x": null,
            "grid_auto_flow": null,
            "grid_area": null,
            "grid_template_columns": null,
            "flex": null,
            "_model_name": "LayoutModel",
            "justify_items": null,
            "grid_row": null,
            "max_height": null,
            "align_content": null,
            "visibility": null,
            "align_self": null,
            "height": null,
            "min_height": null,
            "padding": null,
            "grid_auto_rows": null,
            "grid_gap": null,
            "max_width": null,
            "order": null,
            "_view_module_version": "1.2.0",
            "grid_template_areas": null,
            "object_position": null,
            "object_fit": null,
            "grid_auto_columns": null,
            "margin": null,
            "display": null,
            "left": null
          }
        },
        "02131aecdedc476e8406252e56d9a6a0": {
          "model_module": "@jupyter-widgets/controls",
          "model_name": "FloatProgressModel",
          "state": {
            "_view_name": "ProgressView",
            "style": "IPY_MODEL_d63a50ebeea74d70af3f368fcbdf2315",
            "_dom_classes": [],
            "description": "100%",
            "_model_name": "FloatProgressModel",
            "bar_style": "success",
            "max": 243,
            "_view_module": "@jupyter-widgets/controls",
            "_model_module_version": "1.5.0",
            "value": 243,
            "_view_count": null,
            "_view_module_version": "1.5.0",
            "orientation": "horizontal",
            "min": 0,
            "description_tooltip": null,
            "_model_module": "@jupyter-widgets/controls",
            "layout": "IPY_MODEL_dc35b47d7c3d41749c2dc558f3890bf9"
          }
        },
        "30de4b3ca5cd4a809ebcba878e80cba2": {
          "model_module": "@jupyter-widgets/controls",
          "model_name": "HTMLModel",
          "state": {
            "_view_name": "HTMLView",
            "style": "IPY_MODEL_11a978fbe35d452d8f13a3d5589ce89d",
            "_dom_classes": [],
            "description": "",
            "_model_name": "HTMLModel",
            "placeholder": "​",
            "_view_module": "@jupyter-widgets/controls",
            "_model_module_version": "1.5.0",
            "value": " 243/243 [00:08&lt;00:00, 28.69it/s]",
            "_view_count": null,
            "_view_module_version": "1.5.0",
            "description_tooltip": null,
            "_model_module": "@jupyter-widgets/controls",
            "layout": "IPY_MODEL_e6aa506abc494f5d88b5dd00e23a320e"
          }
        },
        "d63a50ebeea74d70af3f368fcbdf2315": {
          "model_module": "@jupyter-widgets/controls",
          "model_name": "ProgressStyleModel",
          "state": {
            "_view_name": "StyleView",
            "_model_name": "ProgressStyleModel",
            "description_width": "initial",
            "_view_module": "@jupyter-widgets/base",
            "_model_module_version": "1.5.0",
            "_view_count": null,
            "_view_module_version": "1.2.0",
            "bar_color": null,
            "_model_module": "@jupyter-widgets/controls"
          }
        },
        "dc35b47d7c3d41749c2dc558f3890bf9": {
          "model_module": "@jupyter-widgets/base",
          "model_name": "LayoutModel",
          "state": {
            "_view_name": "LayoutView",
            "grid_template_rows": null,
            "right": null,
            "justify_content": null,
            "_view_module": "@jupyter-widgets/base",
            "overflow": null,
            "_model_module_version": "1.2.0",
            "_view_count": null,
            "flex_flow": null,
            "width": null,
            "min_width": null,
            "border": null,
            "align_items": null,
            "bottom": null,
            "_model_module": "@jupyter-widgets/base",
            "top": null,
            "grid_column": null,
            "overflow_y": null,
            "overflow_x": null,
            "grid_auto_flow": null,
            "grid_area": null,
            "grid_template_columns": null,
            "flex": null,
            "_model_name": "LayoutModel",
            "justify_items": null,
            "grid_row": null,
            "max_height": null,
            "align_content": null,
            "visibility": null,
            "align_self": null,
            "height": null,
            "min_height": null,
            "padding": null,
            "grid_auto_rows": null,
            "grid_gap": null,
            "max_width": null,
            "order": null,
            "_view_module_version": "1.2.0",
            "grid_template_areas": null,
            "object_position": null,
            "object_fit": null,
            "grid_auto_columns": null,
            "margin": null,
            "display": null,
            "left": null
          }
        },
        "11a978fbe35d452d8f13a3d5589ce89d": {
          "model_module": "@jupyter-widgets/controls",
          "model_name": "DescriptionStyleModel",
          "state": {
            "_view_name": "StyleView",
            "_model_name": "DescriptionStyleModel",
            "description_width": "",
            "_view_module": "@jupyter-widgets/base",
            "_model_module_version": "1.5.0",
            "_view_count": null,
            "_view_module_version": "1.2.0",
            "_model_module": "@jupyter-widgets/controls"
          }
        },
        "e6aa506abc494f5d88b5dd00e23a320e": {
          "model_module": "@jupyter-widgets/base",
          "model_name": "LayoutModel",
          "state": {
            "_view_name": "LayoutView",
            "grid_template_rows": null,
            "right": null,
            "justify_content": null,
            "_view_module": "@jupyter-widgets/base",
            "overflow": null,
            "_model_module_version": "1.2.0",
            "_view_count": null,
            "flex_flow": null,
            "width": null,
            "min_width": null,
            "border": null,
            "align_items": null,
            "bottom": null,
            "_model_module": "@jupyter-widgets/base",
            "top": null,
            "grid_column": null,
            "overflow_y": null,
            "overflow_x": null,
            "grid_auto_flow": null,
            "grid_area": null,
            "grid_template_columns": null,
            "flex": null,
            "_model_name": "LayoutModel",
            "justify_items": null,
            "grid_row": null,
            "max_height": null,
            "align_content": null,
            "visibility": null,
            "align_self": null,
            "height": null,
            "min_height": null,
            "padding": null,
            "grid_auto_rows": null,
            "grid_gap": null,
            "max_width": null,
            "order": null,
            "_view_module_version": "1.2.0",
            "grid_template_areas": null,
            "object_position": null,
            "object_fit": null,
            "grid_auto_columns": null,
            "margin": null,
            "display": null,
            "left": null
          }
        }
      }
    }
  },
  "cells": [
    {
      "cell_type": "markdown",
      "metadata": {
        "id": "ChNHggjHzvIa"
      },
      "source": [
        "\n",
        "# CDCR Corpus Builder\n",
        "\n",
        "This notebook can be used to generate the CD$^2$CR corpus for non-commercial \n",
        "personal and academic use.\n",
        "\n",
        "The notebook can be run inside Google Colab environment and will automatically\n",
        "install necessary dependencies.\n",
        "\n",
        "The output is a set of JSON files compatible with [Cattan et al. state of the art CDCR model](https://github.com/ariecattan/coref) and optionally a CONLL \n",
        "formatted text file for use with other models.\n",
        "\n"
      ]
    },
    {
      "cell_type": "code",
      "metadata": {
        "id": "jumBuIs_Z6cl",
        "outputId": "5a7cd320-61c3-47f9-f275-c78ea3c924d2",
        "colab": {
          "base_uri": "https://localhost:8080/",
          "height": 1000
        }
      },
      "source": [
        "!pip install bs4 requests pyrouge tqdm stanford-corenlp numpy spacy newspaper3k\n",
        "!python -m spacy download en_core_web_sm"
      ],
      "execution_count": 1,
      "outputs": [
        {
          "output_type": "stream",
          "text": [
            "Requirement already satisfied: bs4 in /usr/local/lib/python3.6/dist-packages (0.0.1)\n",
            "Requirement already satisfied: requests in /usr/local/lib/python3.6/dist-packages (2.23.0)\n",
            "Collecting pyrouge\n",
            "\u001b[?25l  Downloading https://files.pythonhosted.org/packages/11/85/e522dd6b36880ca19dcf7f262b22365748f56edc6f455e7b6a37d0382c32/pyrouge-0.1.3.tar.gz (60kB)\n",
            "\u001b[K     |████████████████████████████████| 61kB 3.7MB/s \n",
            "\u001b[?25hRequirement already satisfied: tqdm in /usr/local/lib/python3.6/dist-packages (4.41.1)\n",
            "Collecting stanford-corenlp\n",
            "  Downloading https://files.pythonhosted.org/packages/31/a9/695357743b55c08e74e46fe72579ca2a2559fa9b196d9f2035339af89b94/stanford_corenlp-3.9.2-py2.py3-none-any.whl\n",
            "Requirement already satisfied: numpy in /usr/local/lib/python3.6/dist-packages (1.18.5)\n",
            "Requirement already satisfied: spacy in /usr/local/lib/python3.6/dist-packages (2.2.4)\n",
            "Collecting newspaper3k\n",
            "\u001b[?25l  Downloading https://files.pythonhosted.org/packages/d7/b9/51afecb35bb61b188a4b44868001de348a0e8134b4dfa00ffc191567c4b9/newspaper3k-0.2.8-py3-none-any.whl (211kB)\n",
            "\u001b[K     |████████████████████████████████| 215kB 5.8MB/s \n",
            "\u001b[?25hRequirement already satisfied: beautifulsoup4 in /usr/local/lib/python3.6/dist-packages (from bs4) (4.6.3)\n",
            "Requirement already satisfied: idna<3,>=2.5 in /usr/local/lib/python3.6/dist-packages (from requests) (2.10)\n",
            "Requirement already satisfied: chardet<4,>=3.0.2 in /usr/local/lib/python3.6/dist-packages (from requests) (3.0.4)\n",
            "Requirement already satisfied: urllib3!=1.25.0,!=1.25.1,<1.26,>=1.21.1 in /usr/local/lib/python3.6/dist-packages (from requests) (1.24.3)\n",
            "Requirement already satisfied: certifi>=2017.4.17 in /usr/local/lib/python3.6/dist-packages (from requests) (2020.6.20)\n",
            "Requirement already satisfied: six>=1.9 in /usr/local/lib/python3.6/dist-packages (from stanford-corenlp) (1.15.0)\n",
            "Collecting corenlp-protobuf>=3.8.0\n",
            "  Downloading https://files.pythonhosted.org/packages/78/93/cc40d521cf6635fffa400b62799ddc761159302643d400cee72bd910efa9/corenlp_protobuf-3.8.0-py2.py3-none-any.whl\n",
            "Requirement already satisfied: blis<0.5.0,>=0.4.0 in /usr/local/lib/python3.6/dist-packages (from spacy) (0.4.1)\n",
            "Requirement already satisfied: cymem<2.1.0,>=2.0.2 in /usr/local/lib/python3.6/dist-packages (from spacy) (2.0.3)\n",
            "Requirement already satisfied: murmurhash<1.1.0,>=0.28.0 in /usr/local/lib/python3.6/dist-packages (from spacy) (1.0.2)\n",
            "Requirement already satisfied: srsly<1.1.0,>=1.0.2 in /usr/local/lib/python3.6/dist-packages (from spacy) (1.0.2)\n",
            "Requirement already satisfied: thinc==7.4.0 in /usr/local/lib/python3.6/dist-packages (from spacy) (7.4.0)\n",
            "Requirement already satisfied: preshed<3.1.0,>=3.0.2 in /usr/local/lib/python3.6/dist-packages (from spacy) (3.0.2)\n",
            "Requirement already satisfied: setuptools in /usr/local/lib/python3.6/dist-packages (from spacy) (50.3.0)\n",
            "Requirement already satisfied: plac<1.2.0,>=0.9.6 in /usr/local/lib/python3.6/dist-packages (from spacy) (1.1.3)\n",
            "Requirement already satisfied: catalogue<1.1.0,>=0.0.7 in /usr/local/lib/python3.6/dist-packages (from spacy) (1.0.0)\n",
            "Requirement already satisfied: wasabi<1.1.0,>=0.4.0 in /usr/local/lib/python3.6/dist-packages (from spacy) (0.8.0)\n",
            "Collecting cssselect>=0.9.2\n",
            "  Downloading https://files.pythonhosted.org/packages/3b/d4/3b5c17f00cce85b9a1e6f91096e1cc8e8ede2e1be8e96b87ce1ed09e92c5/cssselect-1.1.0-py2.py3-none-any.whl\n",
            "Collecting tldextract>=2.0.1\n",
            "\u001b[?25l  Downloading https://files.pythonhosted.org/packages/12/cf/d0ff82625e53bd245d6173ce6333d190abbfcd94e4c30e54b4e16b474216/tldextract-2.2.3-py2.py3-none-any.whl (48kB)\n",
            "\u001b[K     |████████████████████████████████| 51kB 5.1MB/s \n",
            "\u001b[?25hCollecting tinysegmenter==0.3\n",
            "  Downloading https://files.pythonhosted.org/packages/17/82/86982e4b6d16e4febc79c2a1d68ee3b707e8a020c5d2bc4af8052d0f136a/tinysegmenter-0.3.tar.gz\n",
            "Requirement already satisfied: python-dateutil>=2.5.3 in /usr/local/lib/python3.6/dist-packages (from newspaper3k) (2.8.1)\n",
            "Collecting jieba3k>=0.35.1\n",
            "\u001b[?25l  Downloading https://files.pythonhosted.org/packages/a9/cb/2c8332bcdc14d33b0bedd18ae0a4981a069c3513e445120da3c3f23a8aaa/jieba3k-0.35.1.zip (7.4MB)\n",
            "\u001b[K     |████████████████████████████████| 7.4MB 11.2MB/s \n",
            "\u001b[?25hRequirement already satisfied: PyYAML>=3.11 in /usr/local/lib/python3.6/dist-packages (from newspaper3k) (3.13)\n",
            "Collecting feedparser>=5.2.1\n",
            "\u001b[?25l  Downloading https://files.pythonhosted.org/packages/2c/84/df6de99cba01afc82344c9cb3a79df100a00ac33396120f8aa66c72f0d84/feedparser-6.0.1-py2.py3-none-any.whl (80kB)\n",
            "\u001b[K     |████████████████████████████████| 81kB 10.3MB/s \n",
            "\u001b[?25hRequirement already satisfied: Pillow>=3.3.0 in /usr/local/lib/python3.6/dist-packages (from newspaper3k) (7.0.0)\n",
            "Requirement already satisfied: nltk>=3.2.1 in /usr/local/lib/python3.6/dist-packages (from newspaper3k) (3.2.5)\n",
            "Requirement already satisfied: lxml>=3.6.0 in /usr/local/lib/python3.6/dist-packages (from newspaper3k) (4.2.6)\n",
            "Collecting feedfinder2>=0.0.4\n",
            "  Downloading https://files.pythonhosted.org/packages/35/82/1251fefec3bb4b03fd966c7e7f7a41c9fc2bb00d823a34c13f847fd61406/feedfinder2-0.0.4.tar.gz\n",
            "Requirement already satisfied: protobuf in /usr/local/lib/python3.6/dist-packages (from corenlp-protobuf>=3.8.0->stanford-corenlp) (3.12.4)\n",
            "Requirement already satisfied: importlib-metadata>=0.20; python_version < \"3.8\" in /usr/local/lib/python3.6/dist-packages (from catalogue<1.1.0,>=0.0.7->spacy) (2.0.0)\n",
            "Collecting requests-file>=1.4\n",
            "  Downloading https://files.pythonhosted.org/packages/77/86/cdb5e8eaed90796aa83a6d9f75cfbd37af553c47a291cd47bc410ef9bdb2/requests_file-1.5.1-py2.py3-none-any.whl\n",
            "Collecting sgmllib3k\n",
            "  Downloading https://files.pythonhosted.org/packages/9e/bd/3704a8c3e0942d711c1299ebf7b9091930adae6675d7c8f476a7ce48653c/sgmllib3k-1.0.0.tar.gz\n",
            "Requirement already satisfied: zipp>=0.5 in /usr/local/lib/python3.6/dist-packages (from importlib-metadata>=0.20; python_version < \"3.8\"->catalogue<1.1.0,>=0.0.7->spacy) (3.2.0)\n",
            "Building wheels for collected packages: pyrouge, tinysegmenter, jieba3k, feedfinder2, sgmllib3k\n",
            "  Building wheel for pyrouge (setup.py) ... \u001b[?25l\u001b[?25hdone\n",
            "  Created wheel for pyrouge: filename=pyrouge-0.1.3-cp36-none-any.whl size=191613 sha256=040952f8b7aeb9b9ffaa0b2fb1abdeb17bbbaeae89108ea90c1b3ab0214a760d\n",
            "  Stored in directory: /root/.cache/pip/wheels/75/d3/0c/e5b04e15b6b87c42e980de3931d2686e14d36e045058983599\n",
            "  Building wheel for tinysegmenter (setup.py) ... \u001b[?25l\u001b[?25hdone\n",
            "  Created wheel for tinysegmenter: filename=tinysegmenter-0.3-cp36-none-any.whl size=13538 sha256=c045ebc2132fdc59f26836ccbe52577aba00d7876b54c081ac488e62afecffa8\n",
            "  Stored in directory: /root/.cache/pip/wheels/81/2b/43/a02ede72324dd40cdd7ca53aad718c7710628e91b8b0dc0f02\n",
            "  Building wheel for jieba3k (setup.py) ... \u001b[?25l\u001b[?25hdone\n",
            "  Created wheel for jieba3k: filename=jieba3k-0.35.1-cp36-none-any.whl size=7398406 sha256=cfb64babb5aae83413ed39af3cb583d7f0c282bb3234d521a227aa88f0fb3837\n",
            "  Stored in directory: /root/.cache/pip/wheels/83/15/9c/a3f1f67e7f7181170ad37d32e503c35da20627c013f438ed34\n",
            "  Building wheel for feedfinder2 (setup.py) ... \u001b[?25l\u001b[?25hdone\n",
            "  Created wheel for feedfinder2: filename=feedfinder2-0.0.4-cp36-none-any.whl size=3355 sha256=c48d0475ec9ebb12c4da10a9c126f539735184d2e12899dd09db0b4e7dfabaf0\n",
            "  Stored in directory: /root/.cache/pip/wheels/de/03/ca/778e3a7a627e3d98836cc890e7cb40c7575424cfd3340f40ed\n",
            "  Building wheel for sgmllib3k (setup.py) ... \u001b[?25l\u001b[?25hdone\n",
            "  Created wheel for sgmllib3k: filename=sgmllib3k-1.0.0-cp36-none-any.whl size=6067 sha256=8e60530115d512f97fd82f43302a083d97a4060a3229f78620347690ed3365af\n",
            "  Stored in directory: /root/.cache/pip/wheels/f1/80/5a/444ba08a550cdd241bd9baf8bae44be750efe370adb944506a\n",
            "Successfully built pyrouge tinysegmenter jieba3k feedfinder2 sgmllib3k\n",
            "Installing collected packages: pyrouge, corenlp-protobuf, stanford-corenlp, cssselect, requests-file, tldextract, tinysegmenter, jieba3k, sgmllib3k, feedparser, feedfinder2, newspaper3k\n",
            "Successfully installed corenlp-protobuf-3.8.0 cssselect-1.1.0 feedfinder2-0.0.4 feedparser-6.0.1 jieba3k-0.35.1 newspaper3k-0.2.8 pyrouge-0.1.3 requests-file-1.5.1 sgmllib3k-1.0.0 stanford-corenlp-3.9.2 tinysegmenter-0.3 tldextract-2.2.3\n",
            "Requirement already satisfied: en_core_web_sm==2.2.5 from https://github.com/explosion/spacy-models/releases/download/en_core_web_sm-2.2.5/en_core_web_sm-2.2.5.tar.gz#egg=en_core_web_sm==2.2.5 in /usr/local/lib/python3.6/dist-packages (2.2.5)\n",
            "Requirement already satisfied: spacy>=2.2.2 in /usr/local/lib/python3.6/dist-packages (from en_core_web_sm==2.2.5) (2.2.4)\n",
            "Requirement already satisfied: setuptools in /usr/local/lib/python3.6/dist-packages (from spacy>=2.2.2->en_core_web_sm==2.2.5) (50.3.0)\n",
            "Requirement already satisfied: plac<1.2.0,>=0.9.6 in /usr/local/lib/python3.6/dist-packages (from spacy>=2.2.2->en_core_web_sm==2.2.5) (1.1.3)\n",
            "Requirement already satisfied: murmurhash<1.1.0,>=0.28.0 in /usr/local/lib/python3.6/dist-packages (from spacy>=2.2.2->en_core_web_sm==2.2.5) (1.0.2)\n",
            "Requirement already satisfied: cymem<2.1.0,>=2.0.2 in /usr/local/lib/python3.6/dist-packages (from spacy>=2.2.2->en_core_web_sm==2.2.5) (2.0.3)\n",
            "Requirement already satisfied: thinc==7.4.0 in /usr/local/lib/python3.6/dist-packages (from spacy>=2.2.2->en_core_web_sm==2.2.5) (7.4.0)\n",
            "Requirement already satisfied: catalogue<1.1.0,>=0.0.7 in /usr/local/lib/python3.6/dist-packages (from spacy>=2.2.2->en_core_web_sm==2.2.5) (1.0.0)\n",
            "Requirement already satisfied: requests<3.0.0,>=2.13.0 in /usr/local/lib/python3.6/dist-packages (from spacy>=2.2.2->en_core_web_sm==2.2.5) (2.23.0)\n",
            "Requirement already satisfied: preshed<3.1.0,>=3.0.2 in /usr/local/lib/python3.6/dist-packages (from spacy>=2.2.2->en_core_web_sm==2.2.5) (3.0.2)\n",
            "Requirement already satisfied: blis<0.5.0,>=0.4.0 in /usr/local/lib/python3.6/dist-packages (from spacy>=2.2.2->en_core_web_sm==2.2.5) (0.4.1)\n",
            "Requirement already satisfied: wasabi<1.1.0,>=0.4.0 in /usr/local/lib/python3.6/dist-packages (from spacy>=2.2.2->en_core_web_sm==2.2.5) (0.8.0)\n",
            "Requirement already satisfied: numpy>=1.15.0 in /usr/local/lib/python3.6/dist-packages (from spacy>=2.2.2->en_core_web_sm==2.2.5) (1.18.5)\n",
            "Requirement already satisfied: tqdm<5.0.0,>=4.38.0 in /usr/local/lib/python3.6/dist-packages (from spacy>=2.2.2->en_core_web_sm==2.2.5) (4.41.1)\n",
            "Requirement already satisfied: srsly<1.1.0,>=1.0.2 in /usr/local/lib/python3.6/dist-packages (from spacy>=2.2.2->en_core_web_sm==2.2.5) (1.0.2)\n",
            "Requirement already satisfied: importlib-metadata>=0.20; python_version < \"3.8\" in /usr/local/lib/python3.6/dist-packages (from catalogue<1.1.0,>=0.0.7->spacy>=2.2.2->en_core_web_sm==2.2.5) (2.0.0)\n",
            "Requirement already satisfied: idna<3,>=2.5 in /usr/local/lib/python3.6/dist-packages (from requests<3.0.0,>=2.13.0->spacy>=2.2.2->en_core_web_sm==2.2.5) (2.10)\n",
            "Requirement already satisfied: urllib3!=1.25.0,!=1.25.1,<1.26,>=1.21.1 in /usr/local/lib/python3.6/dist-packages (from requests<3.0.0,>=2.13.0->spacy>=2.2.2->en_core_web_sm==2.2.5) (1.24.3)\n",
            "Requirement already satisfied: chardet<4,>=3.0.2 in /usr/local/lib/python3.6/dist-packages (from requests<3.0.0,>=2.13.0->spacy>=2.2.2->en_core_web_sm==2.2.5) (3.0.4)\n",
            "Requirement already satisfied: certifi>=2017.4.17 in /usr/local/lib/python3.6/dist-packages (from requests<3.0.0,>=2.13.0->spacy>=2.2.2->en_core_web_sm==2.2.5) (2020.6.20)\n",
            "Requirement already satisfied: zipp>=0.5 in /usr/local/lib/python3.6/dist-packages (from importlib-metadata>=0.20; python_version < \"3.8\"->catalogue<1.1.0,>=0.0.7->spacy>=2.2.2->en_core_web_sm==2.2.5) (3.2.0)\n",
            "\u001b[38;5;2m✔ Download and installation successful\u001b[0m\n",
            "You can now load the model via spacy.load('en_core_web_sm')\n"
          ],
          "name": "stdout"
        }
      ]
    },
    {
      "cell_type": "markdown",
      "metadata": {
        "id": "dcDmnOMX0tKu"
      },
      "source": [
        "We now download and install [Grenander et al. De-biasing news summarizer](https://github.com/mgrenander/banditsum-kl) for generation of news summaries as in our paper."
      ]
    },
    {
      "cell_type": "code",
      "metadata": {
        "id": "JWfGEV_ecH68",
        "outputId": "8bc6c8e2-710d-4c34-fef1-43c9e1707142",
        "colab": {
          "base_uri": "https://localhost:8080/",
          "height": 260
        }
      },
      "source": [
        "!git clone https://github.com/mgrenander/banditsum-kl\n",
        "!gdown https://drive.google.com/uc?id=1-E8IakncMDn5DkSl4hZXbg332ISwpjHG && mv /content/banditsum_kl_model.pt /content/banditsum-kl/model/\n",
        "!gdown https://drive.google.com/uc?id=1QCrb4bpPP7ldpbEthWYRh4hMFOAzTSPP && mv /content/vocab_100d.p /content/banditsum-kl/data/vocab\n",
        "#Stanford coreNLP only needed if you are doing other stuff with banditsum\n",
        "#!wget http://nlp.stanford.edu/software/stanford-corenlp-latest.zip && unzip stanford-corenlp-latest.zip\n",
        "#!export CORENLP_HOME=/content/stanford-corenlp-4.1.0/"
      ],
      "execution_count": 2,
      "outputs": [
        {
          "output_type": "stream",
          "text": [
            "Cloning into 'banditsum-kl'...\n",
            "remote: Enumerating objects: 86, done.\u001b[K\n",
            "remote: Counting objects: 100% (86/86), done.\u001b[K\n",
            "remote: Compressing objects: 100% (59/59), done.\u001b[K\n",
            "remote: Total 86 (delta 46), reused 55 (delta 23), pack-reused 0\u001b[K\n",
            "Unpacking objects: 100% (86/86), done.\n",
            "Downloading...\n",
            "From: https://drive.google.com/uc?id=1-E8IakncMDn5DkSl4hZXbg332ISwpjHG\n",
            "To: /content/banditsum_kl_model.pt\n",
            "266MB [00:02, 107MB/s]\n",
            "Downloading...\n",
            "From: https://drive.google.com/uc?id=1QCrb4bpPP7ldpbEthWYRh4hMFOAzTSPP\n",
            "To: /content/vocab_100d.p\n",
            "165MB [00:02, 69.6MB/s]\n"
          ],
          "name": "stdout"
        }
      ]
    },
    {
      "cell_type": "markdown",
      "metadata": {
        "id": "aqYVH-Fe1v61"
      },
      "source": [
        "Next we use `webgetter.py` to download and store full text news articles from URLS in `news_urls.json`. The output is stored in `news_content.json` incrementally (so if you stop this process it will continue from where it left off)\n",
        "\n",
        "We enforce a 2 second wait inbetween each HTTP request (to avoid saturating the websites we are downloading from) but you can change this if you wish using the `--wait` argument below"
      ]
    },
    {
      "cell_type": "code",
      "metadata": {
        "id": "7Dh1TtCS2CFO",
        "outputId": "d1851d53-b65f-4e8c-bcbf-3fdc66237e1c",
        "colab": {
          "base_uri": "https://localhost:8080/",
          "height": 1000
        }
      },
      "source": [
        "!python webgetter.py ./news_urls.json ./news_content.json --wait 2"
      ],
      "execution_count": 231,
      "outputs": [
        {
          "output_type": "stream",
          "text": [
            "[1, 2, 4, 5, 8, 9, 10, 12, 13, 14, 15, 16, 17, 18, 20, 21, 22, 24, 29, 31, 41, 44, 45, 46, 48, 49, 53, 55, 57, 60, 61, 63, 64, 65, 66, 67, 69, 70, 71, 72, 73, 77, 78, 79, 80, 81, 83, 86, 87, 88, 89, 93, 94, 105, 106, 109, 110, 111, 115, 116, 118, 119, 122, 123, 124, 125, 127, 128, 131, 132, 134, 135, 136, 137, 138, 139, 140, 141, 142, 143, 144, 145, 146, 147, 148, 149, 150, 151, 152, 153, 154, 155, 156, 157, 158, 159, 161, 162, 168, 169, 173, 174, 175, 176, 180, 181, 182, 184, 185, 186, 189, 190, 195, 204, 205, 213, 214, 215, 220, 222, 223, 224, 225, 226, 227, 228, 229, 230, 232, 233, 234, 237, 238, 239, 240, 242]\n",
            "[1/243] Fetch content for http://m.bbc.co.uk/news/health-17221910...\n",
            "[0.0s per article - est. 0 minutes remaining]\n",
            "Skipping content for existing doc http://m.bbc.co.uk/news/health-17221910\n",
            "[2/243] Fetch content for http://m.bbc.co.uk/news/health-17398746...\n",
            "[0.0s per article - est. 0 minutes remaining]\n",
            "Skipping content for existing doc http://m.bbc.co.uk/news/health-17398746\n",
            "[3/243] Fetch content for http://m.bbc.co.uk/news/health-17769929...\n",
            "[0.0s per article - est. 0 minutes remaining]\n",
            "Skipping content for existing doc http://m.bbc.co.uk/news/health-17769929\n",
            "[4/243] Fetch content for http://m.bbc.co.uk/news/health-18883163...\n",
            "[0.0s per article - est. 0 minutes remaining]\n",
            "Skipping content for existing doc http://m.bbc.co.uk/news/health-18883163\n",
            "[5/243] Fetch content for http://m.bbc.co.uk/news/health-20983324?print=true...\n",
            "[0.0s per article - est. 0 minutes remaining]\n",
            "Skipping content for existing doc http://m.bbc.co.uk/news/health-20983324?print=true\n",
            "[6/243] Fetch content for http://m.bbc.co.uk/news/health-21320859?print=true...\n",
            "[0.0s per article - est. 0 minutes remaining]\n",
            "Skipping content for existing doc http://m.bbc.co.uk/news/health-21320859?print=true\n",
            "[7/243] Fetch content for http://m.bbc.co.uk/news/science-environment-19180983...\n",
            "[0.0s per article - est. 0 minutes remaining]\n",
            "Skipping content for existing doc http://m.bbc.co.uk/news/science-environment-19180983\n",
            "[8/243] Fetch content for http://m.bbc.co.uk/news/science-environment-20851434...\n",
            "[0.0s per article - est. 0 minutes remaining]\n",
            "Skipping content for existing doc http://m.bbc.co.uk/news/science-environment-20851434\n",
            "[9/243] Fetch content for http://m.bbc.co.uk/news/science-environment-21519998?print=true...\n",
            "[0.0s per article - est. 0 minutes remaining]\n",
            "Skipping content for existing doc http://m.bbc.co.uk/news/science-environment-21519998?print=true\n",
            "[10/243] Fetch content for https://web.archive.org/web/20160924042131/http://www.bbc.co.uk/news/science-environment-21778171...\n",
            "[0.0s per article - est. 0 minutes remaining]\n",
            "Skipping content for existing doc https://web.archive.org/web/20160924042131/http://www.bbc.co.uk/news/science-environment-21778171\n",
            "[11/243] Fetch content for http://m.bbc.co.uk/news/science-environment-22184556?print=true...\n",
            "[0.0s per article - est. 0 minutes remaining]\n",
            "Skipping content for existing doc http://m.bbc.co.uk/news/science-environment-22184556?print=true\n",
            "[12/243] Fetch content for http://m.bbc.co.uk/news/uk-england-hampshire-21850080...\n",
            "[0.0s per article - est. 0 minutes remaining]\n",
            "Skipping content for existing doc http://m.bbc.co.uk/news/uk-england-hampshire-21850080\n",
            "[13/243] Fetch content for https://web.archive.org/web/20190308160419/http://news.bbc.co.uk/2/hi/science/nature/4640420.stm...\n",
            "[0.0s per article - est. 0 minutes remaining]\n",
            "Skipping content for existing doc https://web.archive.org/web/20190308160419/http://news.bbc.co.uk/2/hi/science/nature/4640420.stm\n",
            "[14/243] Fetch content for https://web.archive.org/web/20170208070715/http://news.bbc.co.uk/2/hi/technology/8161775.stm...\n",
            "[0.0s per article - est. 0 minutes remaining]\n",
            "Skipping content for existing doc https://web.archive.org/web/20170208070715/http://news.bbc.co.uk/2/hi/technology/8161775.stm\n",
            "[15/243] Fetch content for https://web.archive.org/web/20160304120304/http://news.bbc.co.uk/earth/hi/earth_news/newsid_9001000/9001866.stm...\n",
            "[0.0s per article - est. 0 minutes remaining]\n",
            "Skipping content for existing doc https://web.archive.org/web/20160304120304/http://news.bbc.co.uk/earth/hi/earth_news/newsid_9001000/9001866.stm\n",
            "[16/243] Fetch content for https://www.eurekalert.org/pub_releases/2020-04/ibri-ndi042120.php...\n",
            "[0.0s per article - est. 0 minutes remaining]\n",
            "Skipping content for existing doc https://www.eurekalert.org/pub_releases/2020-04/ibri-ndi042120.php\n",
            "[17/243] Fetch content for https://www.eurekalert.org/pub_releases/2020-04/kauo-bpe040720.php...\n",
            "[0.0s per article - est. 0 minutes remaining]\n",
            "Skipping content for existing doc https://www.eurekalert.org/pub_releases/2020-04/kauo-bpe040720.php\n",
            "[18/243] Fetch content for https://www.eurekalert.org/pub_releases/2020-04/tiot-ftw042420.php...\n",
            "[0.0s per article - est. 0 minutes remaining]\n",
            "Skipping content for existing doc https://www.eurekalert.org/pub_releases/2020-04/tiot-ftw042420.php\n",
            "[19/243] Fetch content for https://www.eurekalert.org/pub_releases/2020-04/uoc-qru042120.php...\n",
            "[0.0s per article - est. 0 minutes remaining]\n",
            "Skipping content for existing doc https://www.eurekalert.org/pub_releases/2020-04/uoc-qru042120.php\n",
            "[20/243] Fetch content for https://www.nytimes.com/2020/04/08/science/monarch-butterflies-captive.html...\n",
            "[0.0s per article - est. 0 minutes remaining]\n",
            "[21/243] Fetch content for https://www.nytimes.com/2020/04/16/health/n95-masks-decontaminated-coronavirus.html...\n",
            "[0.1s per article - est. 0 minutes remaining]\n",
            "Skipping content for existing doc https://www.nytimes.com/2020/04/16/health/n95-masks-decontaminated-coronavirus.html\n",
            "[22/243] Fetch content for https://www.theguardian.com/lifeandstyle/2015/jul/02/diverse-parental-genes-lead-to-taller-smarter-children-says-extensive-study...\n",
            "[0.1s per article - est. 0 minutes remaining]\n",
            "Skipping content for existing doc https://www.theguardian.com/lifeandstyle/2015/jul/02/diverse-parental-genes-lead-to-taller-smarter-children-says-extensive-study\n",
            "[23/243] Fetch content for https://www.theguardian.com/science/2011/jun/14/pregnant-women-sleep-left-stillbirth...\n",
            "[0.09s per article - est. 0 minutes remaining]\n",
            "Skipping content for existing doc https://www.theguardian.com/science/2011/jun/14/pregnant-women-sleep-left-stillbirth\n",
            "[24/243] Fetch content for https://www.theguardian.com/science/2011/mar/09/penis-spines-human-genetics-chimps...\n",
            "[0.09s per article - est. 0 minutes remaining]\n",
            "Skipping content for existing doc https://www.theguardian.com/science/2011/mar/09/penis-spines-human-genetics-chimps\n",
            "[25/243] Fetch content for https://www.theguardian.com/science/2011/may/06/happiness-gene-long-short-versions...\n",
            "[0.09s per article - est. 0 minutes remaining]\n",
            "Skipping content for existing doc https://www.theguardian.com/science/2011/may/06/happiness-gene-long-short-versions\n",
            "[26/243] Fetch content for https://www.theguardian.com/science/2011/nov/09/malaria-weak-spot-vaccine...\n",
            "[0.08s per article - est. 0 minutes remaining]\n",
            "Skipping content for existing doc https://www.theguardian.com/science/2011/nov/09/malaria-weak-spot-vaccine\n",
            "[27/243] Fetch content for https://www.theguardian.com/science/2013/apr/20/painkillers-marathons-health-risk-study...\n",
            "[0.08s per article - est. 0 minutes remaining]\n",
            "Skipping content for existing doc https://www.theguardian.com/science/2013/apr/20/painkillers-marathons-health-risk-study\n",
            "[28/243] Fetch content for https://www.theguardian.com/science/2013/aug/07/dogs-yawn-most-human-pals-strangers...\n",
            "[0.08s per article - est. 0 minutes remaining]\n",
            "Skipping content for existing doc https://www.theguardian.com/science/2013/aug/07/dogs-yawn-most-human-pals-strangers\n",
            "[29/243] Fetch content for https://www.theguardian.com/science/2013/dec/03/snore-burp-male-koala-call...\n",
            "[0.08s per article - est. 0 minutes remaining]\n",
            "Skipping content for existing doc https://www.theguardian.com/science/2013/dec/03/snore-burp-male-koala-call\n",
            "[30/243] Fetch content for https://www.theguardian.com/science/2015/apr/07/brontosaurus-is-back-new-analysis-suggests-genus-might-be-resurrected...\n",
            "[0.07s per article - est. 0 minutes remaining]\n",
            "Skipping content for existing doc https://www.theguardian.com/science/2015/apr/07/brontosaurus-is-back-new-analysis-suggests-genus-might-be-resurrected\n",
            "[31/243] Fetch content for https://www.theguardian.com/science/2015/apr/23/transparent-findings-invisible-people-less-anxious-say-scientists...\n",
            "[0.07s per article - est. 0 minutes remaining]\n",
            "Skipping content for existing doc https://www.theguardian.com/science/2015/apr/23/transparent-findings-invisible-people-less-anxious-say-scientists\n",
            "[32/243] Fetch content for https://www.theguardian.com/science/2015/dec/22/new-type-of-moon-rock-discovered-by-chinese-lunar-lander...\n",
            "[0.07s per article - est. 0 minutes remaining]\n",
            "Skipping content for existing doc https://www.theguardian.com/science/2015/dec/22/new-type-of-moon-rock-discovered-by-chinese-lunar-lander\n",
            "[33/243] Fetch content for https://www.theguardian.com/science/2015/jul/23/genes-influence-academic-ability-across-all-subjects-latest-study-shows...\n",
            "[0.07s per article - est. 0 minutes remaining]\n",
            "Skipping content for existing doc https://www.theguardian.com/science/2015/jul/23/genes-influence-academic-ability-across-all-subjects-latest-study-shows\n",
            "[34/243] Fetch content for https://www.theguardian.com/science/2015/nov/15/sacrificed-incan-boy-genome-lineage-diversity...\n",
            "[0.06s per article - est. 0 minutes remaining]\n",
            "Skipping content for existing doc https://www.theguardian.com/science/2015/nov/15/sacrificed-incan-boy-genome-lineage-diversity\n",
            "[35/243] Fetch content for https://www.theguardian.com/science/2016/apr/25/musical-play-may-boost-understanding-and-long-term-learning-in-babies...\n",
            "[0.06s per article - est. 0 minutes remaining]\n",
            "Skipping content for existing doc https://www.theguardian.com/science/2016/apr/25/musical-play-may-boost-understanding-and-long-term-learning-in-babies\n",
            "[36/243] Fetch content for https://www.theguardian.com/science/2016/aug/11/cunning-cucumber-virus-alters-plant-aromas-to-attract-bees...\n",
            "[0.06s per article - est. 0 minutes remaining]\n",
            "Skipping content for existing doc https://www.theguardian.com/science/2016/aug/11/cunning-cucumber-virus-alters-plant-aromas-to-attract-bees\n",
            "[37/243] Fetch content for https://www.theguardian.com/science/2016/aug/23/childhood-concussion-linked-to-lifelong-health-and-social-problems...\n",
            "[0.06s per article - est. 0 minutes remaining]\n",
            "Skipping content for existing doc https://www.theguardian.com/science/2016/aug/23/childhood-concussion-linked-to-lifelong-health-and-social-problems\n",
            "[38/243] Fetch content for https://www.theguardian.com/science/2016/aug/23/sleep-resets-brain-connections-crucial-for-memory-and-learning-study-reveals...\n",
            "[0.06s per article - est. 0 minutes remaining]\n",
            "Skipping content for existing doc https://www.theguardian.com/science/2016/aug/23/sleep-resets-brain-connections-crucial-for-memory-and-learning-study-reveals\n",
            "[39/243] Fetch content for https://www.theguardian.com/science/2016/jul/20/updated-map-of-the-human-brain-hailed-as-a-scientific-tour-de-force...\n",
            "[0.06s per article - est. 0 minutes remaining]\n",
            "Skipping content for existing doc https://www.theguardian.com/science/2016/jul/20/updated-map-of-the-human-brain-hailed-as-a-scientific-tour-de-force\n",
            "[40/243] Fetch content for https://www.theguardian.com/science/2016/jun/08/doctors-edge-closer-to-creating-babies-with-dna-from-three-people...\n",
            "[0.05s per article - est. 0 minutes remaining]\n",
            "Skipping content for existing doc https://www.theguardian.com/science/2016/jun/08/doctors-edge-closer-to-creating-babies-with-dna-from-three-people\n",
            "[41/243] Fetch content for https://www.theguardian.com/science/2016/may/02/could-these-newly-discovered-planets-orbiting-an-ultracool-dwarf-host-life...\n",
            "[0.05s per article - est. 0 minutes remaining]\n",
            "Skipping content for existing doc https://www.theguardian.com/science/2016/may/02/could-these-newly-discovered-planets-orbiting-an-ultracool-dwarf-host-life\n",
            "[42/243] Fetch content for https://www.theguardian.com/science/2016/nov/29/never-go-to-bed-angry-study-finds-evidence-for-age-old-advice...\n",
            "[0.05s per article - est. 0 minutes remaining]\n",
            "Skipping content for existing doc https://www.theguardian.com/science/2016/nov/29/never-go-to-bed-angry-study-finds-evidence-for-age-old-advice\n",
            "[43/243] Fetch content for https://www.theguardian.com/science/2017/apr/04/geologists-reveal-how-violent-brexit-10-separated-britain-from-europe...\n",
            "[0.05s per article - est. 0 minutes remaining]\n",
            "Skipping content for existing doc https://www.theguardian.com/science/2017/apr/04/geologists-reveal-how-violent-brexit-10-separated-britain-from-europe\n",
            "[44/243] Fetch content for https://www.theguardian.com/science/2017/aug/01/mother-of-all-blooms-is-this-what-the-last-common-ancestor-of-flowers-looked-like...\n",
            "[0.05s per article - est. 0 minutes remaining]\n",
            "Skipping content for existing doc https://www.theguardian.com/science/2017/aug/01/mother-of-all-blooms-is-this-what-the-last-common-ancestor-of-flowers-looked-like\n",
            "[45/243] Fetch content for https://www.theguardian.com/science/2017/aug/09/moon-had-magnetic-field-at-least-a-billion-years-longer-than-thought-study...\n",
            "[0.05s per article - est. 0 minutes remaining]\n",
            "Skipping content for existing doc https://www.theguardian.com/science/2017/aug/09/moon-had-magnetic-field-at-least-a-billion-years-longer-than-thought-study\n",
            "[46/243] Fetch content for https://www.theguardian.com/science/2017/aug/15/geneticists-trace-humble-apples-exotic-lineage-all-the-way-to-the-silk-road...\n",
            "[0.05s per article - est. 0 minutes remaining]\n",
            "Skipping content for existing doc https://www.theguardian.com/science/2017/aug/15/geneticists-trace-humble-apples-exotic-lineage-all-the-way-to-the-silk-road\n",
            "[47/243] Fetch content for https://www.theguardian.com/science/2017/aug/24/life-cycle-of-the-mysterious-and-long-dead-dodo-revealed-by-bone-study...\n",
            "[0.05s per article - est. 0 minutes remaining]\n",
            "Skipping content for existing doc https://www.theguardian.com/science/2017/aug/24/life-cycle-of-the-mysterious-and-long-dead-dodo-revealed-by-bone-study\n",
            "[48/243] Fetch content for https://www.theguardian.com/science/2017/aug/30/volcanic-eruptions-triggered-global-warming-56m-years-ago-study-reveals...\n",
            "[0.05s per article - est. 0 minutes remaining]\n",
            "Skipping content for existing doc https://www.theguardian.com/science/2017/aug/30/volcanic-eruptions-triggered-global-warming-56m-years-ago-study-reveals\n",
            "[49/243] Fetch content for https://www.theguardian.com/science/2017/feb/15/adding-vitamin-d-to-food-would-reduce-deaths-say-scientists-nhs-study-reduce-risk-respiratory-diseases...\n",
            "[0.04s per article - est. 0 minutes remaining]\n",
            "Skipping content for existing doc https://www.theguardian.com/science/2017/feb/15/adding-vitamin-d-to-food-would-reduce-deaths-say-scientists-nhs-study-reduce-risk-respiratory-diseases\n",
            "[50/243] Fetch content for https://www.theguardian.com/science/2017/jul/18/did-human-women-contribute-to-neanderthal-genomes-over-200000-years-ago...\n",
            "[0.04s per article - est. 0 minutes remaining]\n",
            "Skipping content for existing doc https://www.theguardian.com/science/2017/jul/18/did-human-women-contribute-to-neanderthal-genomes-over-200000-years-ago\n",
            "[51/243] Fetch content for https://www.theguardian.com/science/2017/nov/08/is-it-baa-rack-obama-sheep-able-to-recognise-celebrities-say-neuroscientists...\n",
            "[0.04s per article - est. 0 minutes remaining]\n",
            "Skipping content for existing doc https://www.theguardian.com/science/2017/nov/08/is-it-baa-rack-obama-sheep-able-to-recognise-celebrities-say-neuroscientists\n",
            "[52/243] Fetch content for https://www.theguardian.com/science/2017/nov/09/unlucky-dinosaurs-no-extinction-if-asteroid-had-hit-almost-any-other-part-of-earth...\n",
            "[0.04s per article - est. 0 minutes remaining]\n",
            "Skipping content for existing doc https://www.theguardian.com/science/2017/nov/09/unlucky-dinosaurs-no-extinction-if-asteroid-had-hit-almost-any-other-part-of-earth\n",
            "[53/243] Fetch content for https://www.theguardian.com/science/2017/nov/13/facebook-likes-targeted-advertising-psychological-persuasion-academics-research...\n",
            "[0.04s per article - est. 0 minutes remaining]\n",
            "Skipping content for existing doc https://www.theguardian.com/science/2017/nov/13/facebook-likes-targeted-advertising-psychological-persuasion-academics-research\n",
            "[54/243] Fetch content for https://www.theguardian.com/science/2017/nov/15/rare-genetic-mutation-found-in-amish-community-could-combat-ageing...\n",
            "[0.04s per article - est. 0 minutes remaining]\n",
            "Skipping content for existing doc https://www.theguardian.com/science/2017/nov/15/rare-genetic-mutation-found-in-amish-community-could-combat-ageing\n",
            "[55/243] Fetch content for https://www.theguardian.com/science/2017/oct/11/scientists-discover-ring-around-dwarf-planet-haumea-beyond-neptune...\n",
            "[0.04s per article - est. 0 minutes remaining]\n",
            "Skipping content for existing doc https://www.theguardian.com/science/2017/oct/11/scientists-discover-ring-around-dwarf-planet-haumea-beyond-neptune\n",
            "[56/243] Fetch content for https://www.theguardian.com/science/2017/sep/04/supermassive-black-hole-discovered-near-heart-of-the-milky-way...\n",
            "[0.04s per article - est. 0 minutes remaining]\n",
            "Skipping content for existing doc https://www.theguardian.com/science/2017/sep/04/supermassive-black-hole-discovered-near-heart-of-the-milky-way\n",
            "[57/243] Fetch content for https://www.theguardian.com/science/2017/sep/15/how-the-female-viking-warrior-was-written-out-of-history...\n",
            "[0.04s per article - est. 0 minutes remaining]\n",
            "Skipping content for existing doc https://www.theguardian.com/science/2017/sep/15/how-the-female-viking-warrior-was-written-out-of-history\n",
            "[58/243] Fetch content for https://www.theguardian.com/science/2018/apr/09/competitive-eater-taken-to-hospital-after-eating-worlds-hottest-chilli-pepper...\n",
            "[0.04s per article - est. 0 minutes remaining]\n",
            "Skipping content for existing doc https://www.theguardian.com/science/2018/apr/09/competitive-eater-taken-to-hospital-after-eating-worlds-hottest-chilli-pepper\n",
            "[59/243] Fetch content for https://www.theguardian.com/science/2018/jan/29/vaping-may-raise-cancer-and-heart-disease-risk-study-suggests...\n",
            "[0.04s per article - est. 0 minutes remaining]\n",
            "Skipping content for existing doc https://www.theguardian.com/science/2018/jan/29/vaping-may-raise-cancer-and-heart-disease-risk-study-suggests\n",
            "[60/243] Fetch content for https://www.theguardian.com/science/2018/mar/20/cockroaches-dna-reveals-why-they-thrive-in-filthy-places...\n",
            "[0.04s per article - est. 0 minutes remaining]\n",
            "Skipping content for existing doc https://www.theguardian.com/science/2018/mar/20/cockroaches-dna-reveals-why-they-thrive-in-filthy-places\n",
            "[61/243] Fetch content for https://www.theguardian.com/science/2018/mar/20/obesity-dulls-sense-of-taste-study-suggests...\n",
            "[0.04s per article - est. 0 minutes remaining]\n",
            "Skipping content for existing doc https://www.theguardian.com/science/2018/mar/20/obesity-dulls-sense-of-taste-study-suggests\n",
            "[62/243] Fetch content for https://www.theguardian.com/science/2018/mar/27/lost-amazon-villages-uncovered-by-archaeologists...\n",
            "[0.04s per article - est. 0 minutes remaining]\n",
            "Skipping content for existing doc https://www.theguardian.com/science/2018/mar/27/lost-amazon-villages-uncovered-by-archaeologists\n",
            "[63/243] Fetch content for https://www.theguardian.com/science/2018/may/02/plants-talk-to-each-other-through-their-roots...\n",
            "[0.04s per article - est. 0 minutes remaining]\n",
            "Skipping content for existing doc https://www.theguardian.com/science/2018/may/02/plants-talk-to-each-other-through-their-roots\n",
            "[64/243] Fetch content for https://www.theguardian.com/science/2020/apr/09/scientists-digitally-reconstruct-skulls-of-dinosaurs-in-fossilised-eggs...\n",
            "[0.04s per article - est. 0 minutes remaining]\n",
            "Skipping content for existing doc https://www.theguardian.com/science/2020/apr/09/scientists-digitally-reconstruct-skulls-of-dinosaurs-in-fossilised-eggs\n",
            "[65/243] Fetch content for https://www.theguardian.com/science/animal-magic/2014/feb/13/whale-watching-space...\n",
            "[0.04s per article - est. 0 minutes remaining]\n",
            "Skipping content for existing doc https://www.theguardian.com/science/animal-magic/2014/feb/13/whale-watching-space\n",
            "[66/243] Fetch content for https://www.theguardian.com/science/blog/2009/feb/06/homeopathy-homeopathic-nhs-placebo-effect...\n",
            "[0.03s per article - est. 0 minutes remaining]\n",
            "Skipping content for existing doc https://www.theguardian.com/science/blog/2009/feb/06/homeopathy-homeopathic-nhs-placebo-effect\n",
            "[67/243] Fetch content for https://www.theguardian.com/science/blog/2012/jul/06/pterosaur-bellubrunnus-dinosaur-uv-light...\n",
            "[0.03s per article - est. 0 minutes remaining]\n",
            "Skipping content for existing doc https://www.theguardian.com/science/blog/2012/jul/06/pterosaur-bellubrunnus-dinosaur-uv-light\n",
            "[68/243] Fetch content for https://www.theguardian.com/science/blog/2014/dec/16/prescribing-pills-public-health-statins-risks-benefits...\n",
            "[0.03s per article - est. 0 minutes remaining]\n",
            "Skipping content for existing doc https://www.theguardian.com/science/blog/2014/dec/16/prescribing-pills-public-health-statins-risks-benefits\n",
            "[69/243] Fetch content for https://www.theguardian.com/science/grrlscientist/2015/jul/30/golden-jackal-a-new-wolf-species-hiding-in-plain-sight...\n",
            "[0.03s per article - est. 0 minutes remaining]\n",
            "Skipping content for existing doc https://www.theguardian.com/science/grrlscientist/2015/jul/30/golden-jackal-a-new-wolf-species-hiding-in-plain-sight\n",
            "[70/243] Fetch content for https://www.theguardian.com/science/head-quarters/2015/jun/24/life-happiness-curve-u-shaped-ageing...\n",
            "[0.03s per article - est. 0 minutes remaining]\n",
            "Skipping content for existing doc https://www.theguardian.com/science/head-quarters/2015/jun/24/life-happiness-curve-u-shaped-ageing\n",
            "[71/243] Fetch content for https://www.theguardian.com/science/head-quarters/2017/jan/09/why-do-people-pay-thousands-for-celebrity-memorabilia...\n",
            "[0.03s per article - est. 0 minutes remaining]\n",
            "Skipping content for existing doc https://www.theguardian.com/science/head-quarters/2017/jan/09/why-do-people-pay-thousands-for-celebrity-memorabilia\n",
            "[72/243] Fetch content for https://www.theguardian.com/science/lost-worlds/2012/dec/19/dinosaurs-fossils...\n",
            "[0.03s per article - est. 0 minutes remaining]\n",
            "Skipping content for existing doc https://www.theguardian.com/science/lost-worlds/2012/dec/19/dinosaurs-fossils\n",
            "[73/243] Fetch content for https://www.theguardian.com/science/lost-worlds/2014/nov/26/dinosaurs-formed-groups-throughout-their-lives-protoceratops...\n",
            "[0.03s per article - est. 0 minutes remaining]\n",
            "Skipping content for existing doc https://www.theguardian.com/science/lost-worlds/2014/nov/26/dinosaurs-formed-groups-throughout-their-lives-protoceratops\n",
            "[74/243] Fetch content for https://www.theguardian.com/science/lost-worlds/2015/apr/07/the-thunder-lizard-returns-brontosaurus-resurrected...\n",
            "[0.03s per article - est. 0 minutes remaining]\n",
            "Skipping content for existing doc https://www.theguardian.com/science/lost-worlds/2015/apr/07/the-thunder-lizard-returns-brontosaurus-resurrected\n",
            "[75/243] Fetch content for https://www.theguardian.com/science/neurophilosophy/2012/dec/09/turning-urine-into-brain-cells...\n",
            "[0.03s per article - est. 0 minutes remaining]\n",
            "Skipping content for existing doc https://www.theguardian.com/science/neurophilosophy/2012/dec/09/turning-urine-into-brain-cells\n",
            "[76/243] Fetch content for https://www.theguardian.com/science/neurophilosophy/2012/feb/05/1...\n",
            "[0.03s per article - est. 0 minutes remaining]\n",
            "Skipping content for existing doc https://www.theguardian.com/science/neurophilosophy/2012/feb/05/1\n",
            "[77/243] Fetch content for https://www.theguardian.com/science/neurophilosophy/2012/jan/04/neuroscience-human-biology...\n",
            "[0.03s per article - est. 0 minutes remaining]\n",
            "Skipping content for existing doc https://www.theguardian.com/science/neurophilosophy/2012/jan/04/neuroscience-human-biology\n",
            "[78/243] Fetch content for https://www.theguardian.com/science/neurophilosophy/2015/may/14/fruit-fly-neural-compass-works-like-a-mammals...\n",
            "[0.03s per article - est. 0 minutes remaining]\n",
            "Skipping content for existing doc https://www.theguardian.com/science/neurophilosophy/2015/may/14/fruit-fly-neural-compass-works-like-a-mammals\n",
            "[79/243] Fetch content for https://www.theguardian.com/science/neurophilosophy/2015/nov/09/ancient-arthropod-brains-surprise-paleontologists...\n",
            "[0.03s per article - est. 0 minutes remaining]\n",
            "Skipping content for existing doc https://www.theguardian.com/science/neurophilosophy/2015/nov/09/ancient-arthropod-brains-surprise-paleontologists\n",
            "[80/243] Fetch content for https://www.theguardian.com/science/neurophilosophy/2015/sep/11/blind-cave-fish-evolved-an-energy-saving-shrunken-brain...\n",
            "[0.03s per article - est. 0 minutes remaining]\n",
            "Skipping content for existing doc https://www.theguardian.com/science/neurophilosophy/2015/sep/11/blind-cave-fish-evolved-an-energy-saving-shrunken-brain\n",
            "[81/243] Fetch content for https://www.theguardian.com/science/neurophilosophy/2016/nov/01/stem-cells-from-schizophrenics-produce-fewer-neurons...\n",
            "[0.03s per article - est. 0 minutes remaining]\n",
            "Skipping content for existing doc https://www.theguardian.com/science/neurophilosophy/2016/nov/01/stem-cells-from-schizophrenics-produce-fewer-neurons\n",
            "[82/243] Fetch content for https://www.theguardian.com/science/the-h-word/2016/oct/11/ada-lovelace-day-celebrate-19th-century-renaissance-woman-agnes-clerke...\n",
            "[0.03s per article - est. 0 minutes remaining]\n",
            "Skipping content for existing doc https://www.theguardian.com/science/the-h-word/2016/oct/11/ada-lovelace-day-celebrate-19th-century-renaissance-woman-agnes-clerke\n",
            "[83/243] Fetch content for https://www.theguardian.com/world/2020/apr/07/plasma-from-coronavirus-survivors-found-to-help-severely-ill-patients...\n",
            "[0.03s per article - est. 0 minutes remaining]\n",
            "Skipping content for existing doc https://www.theguardian.com/world/2020/apr/07/plasma-from-coronavirus-survivors-found-to-help-severely-ill-patients\n",
            "[84/243] Fetch content for http://www.bbc.co.uk/news/21956795?print=true...\n",
            "[0.03s per article - est. 0 minutes remaining]\n",
            "Skipping content for existing doc http://www.bbc.co.uk/news/21956795?print=true\n",
            "[85/243] Fetch content for http://www.bbc.co.uk/news/health-10880232?print=true...\n",
            "[0.03s per article - est. 0 minutes remaining]\n",
            "Skipping content for existing doc http://www.bbc.co.uk/news/health-10880232?print=true\n",
            "[86/243] Fetch content for http://www.bbc.co.uk/news/health-12160618...\n",
            "[0.03s per article - est. 0 minutes remaining]\n",
            "Skipping content for existing doc http://www.bbc.co.uk/news/health-12160618\n",
            "[87/243] Fetch content for http://www.bbc.co.uk/news/health-12531837...\n",
            "[0.03s per article - est. 0 minutes remaining]\n",
            "Skipping content for existing doc http://www.bbc.co.uk/news/health-12531837\n",
            "[88/243] Fetch content for http://www.bbc.co.uk/news/health-13128327?print=true...\n",
            "[0.03s per article - est. 0 minutes remaining]\n",
            "Skipping content for existing doc http://www.bbc.co.uk/news/health-13128327?print=true\n",
            "[89/243] Fetch content for http://www.bbc.co.uk/news/health-13128327?utm_source=feedburner&utm_medium=feed&utm_campaign=Feed%3A+DailyGoodNews+%28Ode+Magazine+-+And+now+for+the+good+news%29...\n",
            "[0.03s per article - est. 0 minutes remaining]\n",
            "Skipping content for existing doc http://www.bbc.co.uk/news/health-13128327?utm_source=feedburner&utm_medium=feed&utm_campaign=Feed%3A+DailyGoodNews+%28Ode+Magazine+-+And+now+for+the+good+news%29\n",
            "[90/243] Fetch content for https://web.archive.org/web/20160616160714/http://www.bbc.co.uk/news/health-13766152...\n",
            "[0.03s per article - est. 0 minutes remaining]\n",
            "Skipping content for existing doc https://web.archive.org/web/20160616160714/http://www.bbc.co.uk/news/health-13766152\n",
            "[91/243] Fetch content for http://www.bbc.co.uk/news/health-14152095...\n",
            "[0.03s per article - est. 0 minutes remaining]\n",
            "Skipping content for existing doc http://www.bbc.co.uk/news/health-14152095\n",
            "[92/243] Fetch content for http://www.bbc.co.uk/news/health-14411746...\n",
            "[0.02s per article - est. 0 minutes remaining]\n",
            "Skipping content for existing doc http://www.bbc.co.uk/news/health-14411746\n",
            "[93/243] Fetch content for http://www.bbc.co.uk/news/health-14788046...\n",
            "[0.02s per article - est. 0 minutes remaining]\n",
            "Skipping content for existing doc http://www.bbc.co.uk/news/health-14788046\n",
            "[94/243] Fetch content for http://www.bbc.co.uk/news/health-15480754...\n",
            "[0.02s per article - est. 0 minutes remaining]\n",
            "Skipping content for existing doc http://www.bbc.co.uk/news/health-15480754\n",
            "[95/243] Fetch content for https://web.archive.org/web/20160304052653/http://www.bbc.co.uk/news/health-15571711...\n",
            "[0.02s per article - est. 0 minutes remaining]\n",
            "Skipping content for existing doc https://web.archive.org/web/20160304052653/http://www.bbc.co.uk/news/health-15571711\n",
            "[96/243] Fetch content for http://www.bbc.co.uk/news/health-15674998?print=true...\n",
            "[0.02s per article - est. 0 minutes remaining]\n",
            "Skipping content for existing doc http://www.bbc.co.uk/news/health-15674998?print=true\n",
            "[97/243] Fetch content for http://www.bbc.co.uk/news/health-16425522...\n",
            "[0.02s per article - est. 0 minutes remaining]\n",
            "Skipping content for existing doc http://www.bbc.co.uk/news/health-16425522\n",
            "[98/243] Fetch content for http://www.bbc.co.uk/news/health-16425522?filter=EditorPicks...\n",
            "[0.02s per article - est. 0 minutes remaining]\n",
            "Skipping content for existing doc http://www.bbc.co.uk/news/health-16425522?filter=EditorPicks\n",
            "[99/243] Fetch content for http://www.bbc.co.uk/news/health-16425522?postId=111348195...\n",
            "[0.02s per article - est. 0 minutes remaining]\n",
            "Skipping content for existing doc http://www.bbc.co.uk/news/health-16425522?postId=111348195\n",
            "[100/243] Fetch content for http://www.bbc.co.uk/news/health-16425522?postId=111348238...\n",
            "[0.02s per article - est. 0 minutes remaining]\n",
            "Skipping content for existing doc http://www.bbc.co.uk/news/health-16425522?postId=111348238\n",
            "[101/243] Fetch content for http://www.bbc.co.uk/news/health-16425522?postId=111350346...\n",
            "[0.02s per article - est. 0 minutes remaining]\n",
            "Skipping content for existing doc http://www.bbc.co.uk/news/health-16425522?postId=111350346\n",
            "[102/243] Fetch content for http://www.bbc.co.uk/news/health-16425522?postId=111350471...\n",
            "[0.02s per article - est. 0 minutes remaining]\n",
            "Skipping content for existing doc http://www.bbc.co.uk/news/health-16425522?postId=111350471\n",
            "[103/243] Fetch content for http://www.bbc.co.uk/news/health-17234033?print=true...\n",
            "[0.02s per article - est. 0 minutes remaining]\n",
            "Skipping content for existing doc http://www.bbc.co.uk/news/health-17234033?print=true\n",
            "[104/243] Fetch content for http://www.bbc.co.uk/news/health-18883163?print=true...\n",
            "[0.02s per article - est. 0 minutes remaining]\n",
            "Skipping content for existing doc http://www.bbc.co.uk/news/health-18883163?print=true\n",
            "[105/243] Fetch content for http://www.bbc.co.uk/news/health-20314849...\n",
            "[0.02s per article - est. 0 minutes remaining]\n",
            "Skipping content for existing doc http://www.bbc.co.uk/news/health-20314849\n",
            "[106/243] Fetch content for http://www.bbc.co.uk/news/health-20509577?print=true...\n",
            "[0.02s per article - est. 0 minutes remaining]\n",
            "Skipping content for existing doc http://www.bbc.co.uk/news/health-20509577?print=true\n",
            "[107/243] Fetch content for http://www.bbc.co.uk/news/health-20583678...\n",
            "[0.02s per article - est. 0 minutes remaining]\n",
            "Skipping content for existing doc http://www.bbc.co.uk/news/health-20583678\n",
            "[108/243] Fetch content for http://www.bbc.co.uk/news/health-20608905?print=true...\n",
            "[0.02s per article - est. 0 minutes remaining]\n",
            "Skipping content for existing doc http://www.bbc.co.uk/news/health-20608905?print=true\n",
            "[109/243] Fetch content for http://www.bbc.co.uk/news/health-20631344?print=true...\n",
            "[0.02s per article - est. 0 minutes remaining]\n",
            "Skipping content for existing doc http://www.bbc.co.uk/news/health-20631344?print=true\n",
            "[110/243] Fetch content for http://www.bbc.co.uk/news/health-21083458...\n",
            "[0.02s per article - est. 0 minutes remaining]\n",
            "Skipping content for existing doc http://www.bbc.co.uk/news/health-21083458\n",
            "[111/243] Fetch content for http://www.bbc.co.uk/news/health-21199949?print=true...\n",
            "[0.02s per article - est. 0 minutes remaining]\n",
            "Skipping content for existing doc http://www.bbc.co.uk/news/health-21199949?print=true\n",
            "[112/243] Fetch content for http://www.bbc.co.uk/news/health-21547508?print=true...\n",
            "[0.02s per article - est. 0 minutes remaining]\n",
            "Skipping content for existing doc http://www.bbc.co.uk/news/health-21547508?print=true\n",
            "[113/243] Fetch content for http://www.bbc.co.uk/news/health-21834440?filter=EditorPicks...\n",
            "[0.02s per article - est. 0 minutes remaining]\n",
            "Skipping content for existing doc http://www.bbc.co.uk/news/health-21834440?filter=EditorPicks\n",
            "[114/243] Fetch content for http://www.bbc.co.uk/news/health-21834440?postId=115694907...\n",
            "[0.02s per article - est. 0 minutes remaining]\n",
            "Skipping content for existing doc http://www.bbc.co.uk/news/health-21834440?postId=115694907\n",
            "[115/243] Fetch content for http://www.bbc.co.uk/news/health-22042995...\n",
            "[0.02s per article - est. 0 minutes remaining]\n",
            "Skipping content for existing doc http://www.bbc.co.uk/news/health-22042995\n",
            "[116/243] Fetch content for http://www.bbc.co.uk/news/magazine-15438547?module=comments&controller=index&action=index&siteId=newscommentsmodule&forumId=__CPS__15438547&title=Can+crowdsourcing+beat+the+flu%3F&parentUri=http%3A%2F%2Fwww.bbc.co.uk%2Fnews%2Fmagazine-15438547&preset=opin...\n",
            "[0.02s per article - est. 0 minutes remaining]\n",
            "Skipping content for existing doc http://www.bbc.co.uk/news/magazine-15438547?module=comments&controller=index&action=index&siteId=newscommentsmodule&forumId=__CPS__15438547&title=Can+crowdsourcing+beat+the+flu%3F&parentUri=http%3A%2F%2Fwww.bbc.co.uk%2Fnews%2Fmagazine-15438547&preset=opin\n",
            "[117/243] Fetch content for http://www.bbc.co.uk/news/science-environment-14492948...\n",
            "[0.02s per article - est. 0 minutes remaining]\n",
            "Skipping content for existing doc http://www.bbc.co.uk/news/science-environment-14492948\n",
            "[118/243] Fetch content for http://www.bbc.co.uk/news/science-environment-14630012...\n",
            "[0.02s per article - est. 0 minutes remaining]\n",
            "Skipping content for existing doc http://www.bbc.co.uk/news/science-environment-14630012\n",
            "[119/243] Fetch content for https://web.archive.org/web/20160102012216/https://www.bbc.co.uk/news/science-environment-15897803...\n",
            "[0.02s per article - est. 0 minutes remaining]\n",
            "Skipping content for existing doc https://web.archive.org/web/20160102012216/https://www.bbc.co.uk/news/science-environment-15897803\n",
            "[120/243] Fetch content for http://www.bbc.co.uk/news/science-environment-16270759?print=true...\n",
            "[0.02s per article - est. 0 minutes remaining]\n",
            "Skipping content for existing doc http://www.bbc.co.uk/news/science-environment-16270759?print=true\n",
            "[121/243] Fetch content for http://www.bbc.co.uk/news/science-environment-16811042...\n",
            "[0.02s per article - est. 0 minutes remaining]\n",
            "Skipping content for existing doc http://www.bbc.co.uk/news/science-environment-16811042\n",
            "[122/243] Fetch content for http://www.bbc.co.uk/news/science-environment-16811042?print=true...\n",
            "[0.02s per article - est. 0 minutes remaining]\n",
            "Skipping content for existing doc http://www.bbc.co.uk/news/science-environment-16811042?print=true\n",
            "[123/243] Fetch content for http://www.bbc.co.uk/news/science-environment-17192624...\n",
            "[0.02s per article - est. 0 minutes remaining]\n",
            "Skipping content for existing doc http://www.bbc.co.uk/news/science-environment-17192624\n",
            "[124/243] Fetch content for https://web.archive.org/web/20171224234010/http://www.bbc.co.uk/news/science-environment-17857641...\n",
            "[0.02s per article - est. 0 minutes remaining]\n",
            "Skipping content for existing doc https://web.archive.org/web/20171224234010/http://www.bbc.co.uk/news/science-environment-17857641\n",
            "[125/243] Fetch content for http://www.bbc.co.uk/news/science-environment-17909396...\n",
            "[0.02s per article - est. 0 minutes remaining]\n",
            "Skipping content for existing doc http://www.bbc.co.uk/news/science-environment-17909396\n",
            "[126/243] Fetch content for http://www.bbc.co.uk/news/science-environment-19208400?print=true...\n",
            "[0.02s per article - est. 0 minutes remaining]\n",
            "Skipping content for existing doc http://www.bbc.co.uk/news/science-environment-19208400?print=true\n",
            "[127/243] Fetch content for http://www.bbc.co.uk/news/science-environment-19440500...\n",
            "[0.02s per article - est. 0 minutes remaining]\n",
            "Skipping content for existing doc http://www.bbc.co.uk/news/science-environment-19440500\n",
            "[128/243] Fetch content for http://www.bbc.co.uk/news/science-environment-19898947?print=true...\n",
            "[0.02s per article - est. 0 minutes remaining]\n",
            "Skipping content for existing doc http://www.bbc.co.uk/news/science-environment-19898947?print=true\n",
            "[129/243] Fetch content for http://www.bbc.co.uk/news/science-environment-20958060?postId=114919998...\n",
            "[0.02s per article - est. 0 minutes remaining]\n",
            "Skipping content for existing doc http://www.bbc.co.uk/news/science-environment-20958060?postId=114919998\n",
            "[130/243] Fetch content for http://www.bbc.co.uk/news/science-environment-21471908?from=astrowire.com...\n",
            "[0.02s per article - est. 0 minutes remaining]\n",
            "Skipping content for existing doc http://www.bbc.co.uk/news/science-environment-21471908?from=astrowire.com\n",
            "[131/243] Fetch content for http://www.bbc.co.uk/news/science-environment-22075182...\n",
            "[0.02s per article - est. 0 minutes remaining]\n",
            "Skipping content for existing doc http://www.bbc.co.uk/news/science-environment-22075182\n",
            "[132/243] Fetch content for http://www.bbc.co.uk/news/science-environment-22184556...\n",
            "[0.02s per article - est. 0 minutes remaining]\n",
            "Skipping content for existing doc http://www.bbc.co.uk/news/science-environment-22184556\n",
            "[133/243] Fetch content for http://www.bbc.co.uk/news/science-environment-22355187...\n",
            "[0.02s per article - est. 0 minutes remaining]\n",
            "Skipping content for existing doc http://www.bbc.co.uk/news/science-environment-22355187\n",
            "[134/243] Fetch content for http://www.dailymail.co.uk/sciencetech/article-2111976/Why-tax-makes-unhappy-Scientists-words-left-hand-QWERTY-keyboard-make-people-sad.html?printingPage=true...\n",
            "[0.02s per article - est. 0 minutes remaining]\n",
            "Skipping content for existing doc http://www.dailymail.co.uk/sciencetech/article-2111976/Why-tax-makes-unhappy-Scientists-words-left-hand-QWERTY-keyboard-make-people-sad.html?printingPage=true\n",
            "[135/243] Fetch content for http://www.express.co.uk/posts/view/308227/horoscopes/forecast/Sagittarius/9/.google-analytics.com/ga.js...\n",
            "[0.02s per article - est. 0 minutes remaining]\n",
            "Skipping content for existing doc http://www.express.co.uk/posts/view/308227/horoscopes/forecast/Sagittarius/9/.google-analytics.com/ga.js\n",
            "[136/243] Fetch content for https://web.archive.org/web/20111209064243/http://wwwnews.live.bbc.co.uk/nature/15559929?print=true...\n",
            "[0.02s per article - est. 0 minutes remaining]\n",
            "Skipping content for existing doc https://web.archive.org/web/20111209064243/http://wwwnews.live.bbc.co.uk/nature/15559929?print=true\n",
            "[137/243] Fetch content for http://wwwnews.live.bbc.co.uk/nature/19556915...\n",
            "[0.02s per article - est. 0 minutes remaining]\n",
            "Skipping content for existing doc http://wwwnews.live.bbc.co.uk/nature/19556915\n",
            "[138/243] Fetch content for http://wwwnews.live.bbc.co.uk/nature/20593634...\n",
            "[0.02s per article - est. 0 minutes remaining]\n",
            "Skipping content for existing doc http://wwwnews.live.bbc.co.uk/nature/20593634\n",
            "[139/243] Fetch content for http://wwwnews.live.bbc.co.uk/nature/20945543...\n",
            "[0.02s per article - est. 0 minutes remaining]\n",
            "Skipping content for existing doc http://wwwnews.live.bbc.co.uk/nature/20945543\n",
            "[140/243] Fetch content for http://wwwnews.live.bbc.co.uk/news/health-14403201...\n",
            "[0.02s per article - est. 0 minutes remaining]\n",
            "Skipping content for existing doc http://wwwnews.live.bbc.co.uk/news/health-14403201\n",
            "[141/243] Fetch content for http://wwwnews.live.bbc.co.uk/news/health-14679497...\n",
            "[0.02s per article - est. 0 minutes remaining]\n",
            "Skipping content for existing doc http://wwwnews.live.bbc.co.uk/news/health-14679497\n",
            "[142/243] Fetch content for http://wwwnews.live.bbc.co.uk/news/health-14788046?print=true...\n",
            "[0.02s per article - est. 0 minutes remaining]\n",
            "Skipping content for existing doc http://wwwnews.live.bbc.co.uk/news/health-14788046?print=true\n",
            "[143/243] Fetch content for http://wwwnews.live.bbc.co.uk/news/health-14851651?print=true...\n",
            "[0.02s per article - est. 0 minutes remaining]\n",
            "Skipping content for existing doc http://wwwnews.live.bbc.co.uk/news/health-14851651?print=true\n",
            "[144/243] Fetch content for http://wwwnews.live.bbc.co.uk/news/health-15572990...\n",
            "[0.02s per article - est. 0 minutes remaining]\n",
            "Skipping content for existing doc http://wwwnews.live.bbc.co.uk/news/health-15572990\n",
            "[145/243] Fetch content for http://wwwnews.live.bbc.co.uk/news/health-18101423...\n",
            "[0.02s per article - est. 0 minutes remaining]\n",
            "Skipping content for existing doc http://wwwnews.live.bbc.co.uk/news/health-18101423\n",
            "[146/243] Fetch content for http://wwwnews.live.bbc.co.uk/news/health-18190352...\n",
            "[0.02s per article - est. 0 minutes remaining]\n",
            "Skipping content for existing doc http://wwwnews.live.bbc.co.uk/news/health-18190352\n",
            "[147/243] Fetch content for http://wwwnews.live.bbc.co.uk/news/health-18190352?print=true...\n",
            "[0.02s per article - est. 0 minutes remaining]\n",
            "Skipping content for existing doc http://wwwnews.live.bbc.co.uk/news/health-18190352?print=true\n",
            "[148/243] Fetch content for http://wwwnews.live.bbc.co.uk/news/health-19421818?print=true...\n",
            "[0.02s per article - est. 0 minutes remaining]\n",
            "Skipping content for existing doc http://wwwnews.live.bbc.co.uk/news/health-19421818?print=true\n",
            "[149/243] Fetch content for http://wwwnews.live.bbc.co.uk/news/health-20583678...\n",
            "[0.02s per article - est. 0 minutes remaining]\n",
            "Skipping content for existing doc http://wwwnews.live.bbc.co.uk/news/health-20583678\n",
            "[150/243] Fetch content for http://wwwnews.live.bbc.co.uk/news/magazine-15438547...\n",
            "[0.02s per article - est. 0 minutes remaining]\n",
            "Skipping content for existing doc http://wwwnews.live.bbc.co.uk/news/magazine-15438547\n",
            "[151/243] Fetch content for http://wwwnews.live.bbc.co.uk/news/science-environment-11525087...\n",
            "[0.02s per article - est. 0 minutes remaining]\n",
            "Skipping content for existing doc http://wwwnews.live.bbc.co.uk/news/science-environment-11525087\n",
            "[152/243] Fetch content for http://wwwnews.live.bbc.co.uk/news/science-environment-14630012...\n",
            "[0.02s per article - est. 0 minutes remaining]\n",
            "Skipping content for existing doc http://wwwnews.live.bbc.co.uk/news/science-environment-14630012\n",
            "[153/243] Fetch content for http://wwwnews.live.bbc.co.uk/news/science-environment-14947363...\n",
            "[0.01s per article - est. 0 minutes remaining]\n",
            "Skipping content for existing doc http://wwwnews.live.bbc.co.uk/news/science-environment-14947363\n",
            "[154/243] Fetch content for http://wwwnews.live.bbc.co.uk/news/science-environment-16514637?print=true...\n",
            "[0.01s per article - est. 0 minutes remaining]\n",
            "Skipping content for existing doc http://wwwnews.live.bbc.co.uk/news/science-environment-16514637?print=true\n",
            "[155/243] Fetch content for http://wwwnews.live.bbc.co.uk/news/science-environment-16811042...\n",
            "[0.01s per article - est. 0 minutes remaining]\n",
            "Skipping content for existing doc http://wwwnews.live.bbc.co.uk/news/science-environment-16811042\n",
            "[156/243] Fetch content for http://wwwnews.live.bbc.co.uk/news/science-environment-16811042?print=true...\n",
            "[0.01s per article - est. 0 minutes remaining]\n",
            "Skipping content for existing doc http://wwwnews.live.bbc.co.uk/news/science-environment-16811042?print=true\n",
            "[157/243] Fetch content for http://wwwnews.live.bbc.co.uk/news/science-environment-19180983?print=true...\n",
            "[0.01s per article - est. 0 minutes remaining]\n",
            "Skipping content for existing doc http://wwwnews.live.bbc.co.uk/news/science-environment-19180983?print=true\n",
            "[158/243] Fetch content for http://wwwnews.live.bbc.co.uk/news/science-environment-19898947...\n",
            "[0.01s per article - est. 0 minutes remaining]\n",
            "Skipping content for existing doc http://wwwnews.live.bbc.co.uk/news/science-environment-19898947\n",
            "[159/243] Fetch content for https://web.archive.org/web/20180307110937/https://www.telegraph.co.uk/news/health/news/7989889/Vitamin-B-is-revolutionary-new-weapon-against-Alzheimers-Disease.html...\n",
            "[0.01s per article - est. 0 minutes remaining]\n",
            "Skipping content for existing doc https://web.archive.org/web/20180307110937/https://www.telegraph.co.uk/news/health/news/7989889/Vitamin-B-is-revolutionary-new-weapon-against-Alzheimers-Disease.html\n",
            "[160/243] Fetch content for https://web.archive.org/web/20160820032329/http://www.telegraph.co.uk/news/health/news/9633402/Closed-drug-trials-leave-patients-at-risk-and-doctors-in-the-dark.html...\n",
            "[0.01s per article - est. 0 minutes remaining]\n",
            "Skipping content for existing doc https://web.archive.org/web/20160820032329/http://www.telegraph.co.uk/news/health/news/9633402/Closed-drug-trials-leave-patients-at-risk-and-doctors-in-the-dark.html\n",
            "[161/243] Fetch content for https://www.eurekalert.org/pub_releases/2020-04/su-dgt040820.php...\n",
            "[0.01s per article - est. 0 minutes remaining]\n",
            "Skipping content for existing doc https://www.eurekalert.org/pub_releases/2020-04/su-dgt040820.php\n",
            "[162/243] Fetch content for https://www.eurekalert.org/pub_releases/2020-04/tuot-ass040920.php...\n",
            "[0.01s per article - est. 0 minutes remaining]\n",
            "Skipping content for existing doc https://www.eurekalert.org/pub_releases/2020-04/tuot-ass040920.php\n",
            "[163/243] Fetch content for https://www.eurekalert.org/pub_releases/2020-04/nyio-aah040920.php...\n",
            "[0.01s per article - est. 0 minutes remaining]\n",
            "Skipping content for existing doc https://www.eurekalert.org/pub_releases/2020-04/nyio-aah040920.php\n",
            "[164/243] Fetch content for https://www.theguardian.com/environment/2020/apr/07/air-pollution-linked-to-far-higher-covid-19-death-rates-study-finds...\n",
            "[0.01s per article - est. 0 minutes remaining]\n",
            "Skipping content for existing doc https://www.theguardian.com/environment/2020/apr/07/air-pollution-linked-to-far-higher-covid-19-death-rates-study-finds\n",
            "[165/243] Fetch content for https://www.theguardian.com/commentisfree/2020/apr/07/coronavirus-hits-men-harder-evidence-risk...\n",
            "[0.01s per article - est. 0 minutes remaining]\n",
            "Skipping content for existing doc https://www.theguardian.com/commentisfree/2020/apr/07/coronavirus-hits-men-harder-evidence-risk\n",
            "[166/243] Fetch content for https://www.theguardian.com/world/2020/apr/07/saliva-spray-during-speech-could-transmit-coronavirus-study...\n",
            "[0.01s per article - est. 0 minutes remaining]\n",
            "Skipping content for existing doc https://www.theguardian.com/world/2020/apr/07/saliva-spray-during-speech-could-transmit-coronavirus-study\n",
            "[167/243] Fetch content for https://www.theguardian.com/environment/2020/apr/14/worldwide-climate-commitments-economy-emissions...\n",
            "[0.01s per article - est. 0 minutes remaining]\n",
            "Skipping content for existing doc https://www.theguardian.com/environment/2020/apr/14/worldwide-climate-commitments-economy-emissions\n",
            "[168/243] Fetch content for https://www.bbc.co.uk/news/science-environment-52312260...\n",
            "[0.01s per article - est. 0 minutes remaining]\n",
            "Skipping content for existing doc https://www.bbc.co.uk/news/science-environment-52312260\n",
            "[169/243] Fetch content for https://www.eurekalert.org/pub_releases/2020-04/tuoh-n3i041420.php...\n",
            "[0.01s per article - est. 0 minutes remaining]\n",
            "Skipping content for existing doc https://www.eurekalert.org/pub_releases/2020-04/tuoh-n3i041420.php\n",
            "[170/243] Fetch content for https://www.eurekalert.org/pub_releases/2020-04/kfu-hse041020.php...\n",
            "[0.01s per article - est. 0 minutes remaining]\n",
            "Skipping content for existing doc https://www.eurekalert.org/pub_releases/2020-04/kfu-hse041020.php\n",
            "[171/243] Fetch content for https://www.theguardian.com/environment/2020/apr/18/covid-19-a-blessing-for-pangolins...\n",
            "[0.01s per article - est. 0 minutes remaining]\n",
            "Skipping content for existing doc https://www.theguardian.com/environment/2020/apr/18/covid-19-a-blessing-for-pangolins\n",
            "[172/243] Fetch content for https://www.theguardian.com/society/2020/apr/20/uk-trial-coronavirus-treatments-using-blood-from-survivors...\n",
            "[0.01s per article - est. 0 minutes remaining]\n",
            "Skipping content for existing doc https://www.theguardian.com/society/2020/apr/20/uk-trial-coronavirus-treatments-using-blood-from-survivors\n",
            "[173/243] Fetch content for https://www.bbc.co.uk/news/science-environment-52353671...\n",
            "[0.01s per article - est. 0 minutes remaining]\n",
            "Skipping content for existing doc https://www.bbc.co.uk/news/science-environment-52353671\n",
            "[174/243] Fetch content for https://www.eurekalert.org/pub_releases/2020-04/pu-trl040920.php...\n",
            "[0.01s per article - est. 0 minutes remaining]\n",
            "Skipping content for existing doc https://www.eurekalert.org/pub_releases/2020-04/pu-trl040920.php\n",
            "[175/243] Fetch content for https://www.eurekalert.org/pub_releases/2020-04/epfd-csi042420.php...\n",
            "[0.01s per article - est. 0 minutes remaining]\n",
            "Skipping content for existing doc https://www.eurekalert.org/pub_releases/2020-04/epfd-csi042420.php\n",
            "[176/243] Fetch content for https://www.nytimes.com/2020/04/18/health/coronavirus-america-future.html...\n",
            "[0.01s per article - est. 0 minutes remaining]\n",
            "Skipping content for existing doc https://www.nytimes.com/2020/04/18/health/coronavirus-america-future.html\n",
            "[177/243] Fetch content for https://www.nytimes.com/2020/04/21/us/coronavirus-updates.html...\n",
            "[0.01s per article - est. 0 minutes remaining]\n",
            "Skipping content for existing doc https://www.nytimes.com/2020/04/21/us/coronavirus-updates.html\n",
            "[178/243] Fetch content for https://www.nytimes.com/2020/04/21/health/nih-covid-19-treatment.html...\n",
            "[0.01s per article - est. 0 minutes remaining]\n",
            "Skipping content for existing doc https://www.nytimes.com/2020/04/21/health/nih-covid-19-treatment.html\n",
            "[179/243] Fetch content for https://www.nytimes.com/2020/04/08/science/new-york-coronavirus-cases-europe-genomes.html...\n",
            "[0.01s per article - est. 0 minutes remaining]\n",
            "Skipping content for existing doc https://www.nytimes.com/2020/04/08/science/new-york-coronavirus-cases-europe-genomes.html\n",
            "[180/243] Fetch content for https://www.nytimes.com/2020/04/16/climate/drought-southwest-climate-change.html...\n",
            "[0.01s per article - est. 0 minutes remaining]\n",
            "Skipping content for existing doc https://www.nytimes.com/2020/04/16/climate/drought-southwest-climate-change.html\n",
            "[181/243] Fetch content for https://www.nytimes.com/2020/05/04/health/fda-antibody-tests-coronavirus.html...\n",
            "[0.01s per article - est. 0 minutes remaining]\n",
            "Skipping content for existing doc https://www.nytimes.com/2020/05/04/health/fda-antibody-tests-coronavirus.html\n",
            "[182/243] Fetch content for https://www.nytimes.com/2020/05/06/climate/new-york-coronavirus-composting.html...\n",
            "[0.01s per article - est. 0 minutes remaining]\n",
            "Skipping content for existing doc https://www.nytimes.com/2020/05/06/climate/new-york-coronavirus-composting.html\n",
            "[183/243] Fetch content for https://www.eurekalert.org/pub_releases/2020-05/tuot-icw050120.php...\n",
            "[0.01s per article - est. 0 minutes remaining]\n",
            "Skipping content for existing doc https://www.eurekalert.org/pub_releases/2020-05/tuot-icw050120.php\n",
            "[184/243] Fetch content for https://www.bbc.co.uk/news/science-environment-52666309...\n",
            "[0.01s per article - est. 0 minutes remaining]\n",
            "Skipping content for existing doc https://www.bbc.co.uk/news/science-environment-52666309\n",
            "[185/243] Fetch content for https://www.bbc.co.uk/news/science-environment-52759804...\n",
            "[0.01s per article - est. 0 minutes remaining]\n",
            "Skipping content for existing doc https://www.bbc.co.uk/news/science-environment-52759804\n",
            "[186/243] Fetch content for https://www.eurekalert.org/pub_releases/2020-05/tifb-csa051920.php...\n",
            "[0.01s per article - est. 0 minutes remaining]\n",
            "Skipping content for existing doc https://www.eurekalert.org/pub_releases/2020-05/tifb-csa051920.php\n",
            "[187/243] Fetch content for https://www.eurekalert.org/pub_releases/2020-05/uos-asi052020.php...\n",
            "[0.01s per article - est. 0 minutes remaining]\n",
            "Skipping content for existing doc https://www.eurekalert.org/pub_releases/2020-05/uos-asi052020.php\n",
            "[188/243] Fetch content for https://www.nytimes.com/2020/05/23/science/tyrannosaurus-rex-legs.html...\n",
            "[0.01s per article - est. 0 minutes remaining]\n",
            "Skipping content for existing doc https://www.nytimes.com/2020/05/23/science/tyrannosaurus-rex-legs.html\n",
            "[189/243] Fetch content for https://www.nytimes.com/2020/05/22/health/coronarvirus-convalescent-serum.html...\n",
            "[0.01s per article - est. 0 minutes remaining]\n",
            "Skipping content for existing doc https://www.nytimes.com/2020/05/22/health/coronarvirus-convalescent-serum.html\n",
            "[190/243] Fetch content for https://www.nytimes.com/2020/05/22/health/coronavirus-vaccine-china.html...\n",
            "[0.01s per article - est. 0 minutes remaining]\n",
            "Skipping content for existing doc https://www.nytimes.com/2020/05/22/health/coronavirus-vaccine-china.html\n",
            "[191/243] Fetch content for https://www.nytimes.com/2020/05/22/world/live-coronavirus-world-cases.html...\n",
            "[0.01s per article - est. 0 minutes remaining]\n",
            "Skipping content for existing doc https://www.nytimes.com/2020/05/22/world/live-coronavirus-world-cases.html\n",
            "[192/243] Fetch content for https://www.nytimes.com/2020/05/20/health/coronavirus-vaccine-harvard.html...\n",
            "[0.01s per article - est. 0 minutes remaining]\n",
            "Skipping content for existing doc https://www.nytimes.com/2020/05/20/health/coronavirus-vaccine-harvard.html\n",
            "[193/243] Fetch content for https://www.nytimes.com/2020/05/18/climate/climate-changes-hurricane-intensity.html...\n",
            "[0.01s per article - est. 0 minutes remaining]\n",
            "Skipping content for existing doc https://www.nytimes.com/2020/05/18/climate/climate-changes-hurricane-intensity.html\n",
            "[194/243] Fetch content for https://www.nytimes.com/2020/05/18/science/virus-outbreak-rabbits.html...\n",
            "[0.01s per article - est. 0 minutes remaining]\n",
            "Skipping content for existing doc https://www.nytimes.com/2020/05/18/science/virus-outbreak-rabbits.html\n",
            "[195/243] Fetch content for https://www.nytimes.com/2020/05/18/science/salamanders-amphibians-wildlife-migration.html...\n",
            "[0.01s per article - est. 0 minutes remaining]\n",
            "Skipping content for existing doc https://www.nytimes.com/2020/05/18/science/salamanders-amphibians-wildlife-migration.html\n",
            "[196/243] Fetch content for https://www.theguardian.com/world/2020/may/30/covid-19-asymptomatic-coronavirus-how-common-is-it-and-can-its-spread-be-contained...\n",
            "[0.01s per article - est. 0 minutes remaining]\n",
            "Skipping content for existing doc https://www.theguardian.com/world/2020/may/30/covid-19-asymptomatic-coronavirus-how-common-is-it-and-can-its-spread-be-contained\n",
            "[197/243] Fetch content for https://www.theguardian.com/science/2020/may/28/how-will-no-10-decide-to-ease-lockdown-and-reopen-schools...\n",
            "[0.01s per article - est. 0 minutes remaining]\n",
            "Skipping content for existing doc https://www.theguardian.com/science/2020/may/28/how-will-no-10-decide-to-ease-lockdown-and-reopen-schools\n",
            "[198/243] Fetch content for https://www.theguardian.com/world/2020/may/10/will-covid-19-mutate-into-a-more-dangerous-virus...\n",
            "[0.01s per article - est. 0 minutes remaining]\n",
            "Skipping content for existing doc https://www.theguardian.com/world/2020/may/10/will-covid-19-mutate-into-a-more-dangerous-virus\n",
            "[199/243] Fetch content for https://www.theguardian.com/science/2020/may/28/nhs-to-increase-covid-19-patients-receiving-antibody-therapy...\n",
            "[0.01s per article - est. 0 minutes remaining]\n",
            "Skipping content for existing doc https://www.theguardian.com/science/2020/may/28/nhs-to-increase-covid-19-patients-receiving-antibody-therapy\n",
            "[200/243] Fetch content for https://www.theguardian.com/science/2020/may/28/questions-raised-over-hydroxychloroquine-study-which-caused-who-to-halt-trials-for-covid-19...\n",
            "[0.01s per article - est. 0 minutes remaining]\n",
            "Skipping content for existing doc https://www.theguardian.com/science/2020/may/28/questions-raised-over-hydroxychloroquine-study-which-caused-who-to-halt-trials-for-covid-19\n",
            "[201/243] Fetch content for https://www.theguardian.com/science/2020/may/13/italian-doctors-find-link-between-covid-19-and-inflammatory-disorder...\n",
            "[0.01s per article - est. 0 minutes remaining]\n",
            "Skipping content for existing doc https://www.theguardian.com/science/2020/may/13/italian-doctors-find-link-between-covid-19-and-inflammatory-disorder\n",
            "[202/243] Fetch content for https://www.bbc.co.uk/news/science-environment-52724821...\n",
            "[0.01s per article - est. 0 minutes remaining]\n",
            "Skipping content for existing doc https://www.bbc.co.uk/news/science-environment-52724821\n",
            "[203/243] Fetch content for https://www.bbc.co.uk/news/science-environment-52710224...\n",
            "[0.01s per article - est. 0 minutes remaining]\n",
            "Skipping content for existing doc https://www.bbc.co.uk/news/science-environment-52710224\n",
            "[204/243] Fetch content for https://www.nytimes.com/2020/05/23/climate/climate-change-coronavirus.html...\n",
            "[0.01s per article - est. 0 minutes remaining]\n",
            "Skipping content for existing doc https://www.nytimes.com/2020/05/23/climate/climate-change-coronavirus.html\n",
            "[205/243] Fetch content for https://www.eurekalert.org/pub_releases/2020-05/uoc--htc052920.php...\n",
            "[0.01s per article - est. 0 minutes remaining]\n",
            "Skipping content for existing doc https://www.eurekalert.org/pub_releases/2020-05/uoc--htc052920.php\n",
            "[206/243] Fetch content for https://www.nytimes.com/2020/05/27/us/coronavirus-live-news-updates.html...\n",
            "[0.01s per article - est. 0 minutes remaining]\n",
            "Skipping content for existing doc https://www.nytimes.com/2020/05/27/us/coronavirus-live-news-updates.html\n",
            "[207/243] Fetch content for https://www.eurekalert.org/pub_releases/2020-05/cuso-nvo052820.php...\n",
            "[0.01s per article - est. 0 minutes remaining]\n",
            "Skipping content for existing doc https://www.eurekalert.org/pub_releases/2020-05/cuso-nvo052820.php\n",
            "[208/243] Fetch content for https://www.bbc.co.uk/news/science-environment-52845990...\n",
            "[0.01s per article - est. 0 minutes remaining]\n",
            "Skipping content for existing doc https://www.bbc.co.uk/news/science-environment-52845990\n",
            "[209/243] Fetch content for https://www.bbc.co.uk/news/science-environment-52839678...\n",
            "[0.01s per article - est. 0 minutes remaining]\n",
            "Skipping content for existing doc https://www.bbc.co.uk/news/science-environment-52839678\n",
            "[210/243] Fetch content for https://www.bbc.co.uk/news/science-environment-52795929...\n",
            "[0.01s per article - est. 0 minutes remaining]\n",
            "Skipping content for existing doc https://www.bbc.co.uk/news/science-environment-52795929\n",
            "[211/243] Fetch content for https://www.theguardian.com/commentisfree/2020/may/28/coronavirus-infection-rate-too-high-second-wave...\n",
            "[0.01s per article - est. 0 minutes remaining]\n",
            "Skipping content for existing doc https://www.theguardian.com/commentisfree/2020/may/28/coronavirus-infection-rate-too-high-second-wave\n",
            "[212/243] Fetch content for https://www.nytimes.com/2020/05/26/science/cockatoos-intelligence.html...\n",
            "[0.01s per article - est. 0 minutes remaining]\n",
            "Skipping content for existing doc https://www.nytimes.com/2020/05/26/science/cockatoos-intelligence.html\n",
            "[213/243] Fetch content for https://www.nytimes.com/2020/05/27/health/coronavirus-spread-united-states.html...\n",
            "[0.01s per article - est. 0 minutes remaining]\n",
            "Skipping content for existing doc https://www.nytimes.com/2020/05/27/health/coronavirus-spread-united-states.html\n",
            "[214/243] Fetch content for https://www.eurekalert.org/pub_releases/2020-05/uoia-sis052920.php...\n",
            "[0.01s per article - est. 0 minutes remaining]\n",
            "Skipping content for existing doc https://www.eurekalert.org/pub_releases/2020-05/uoia-sis052920.php\n",
            "[215/243] Fetch content for https://www.nytimes.com/2020/05/27/world/coronavirus-world-global.html...\n",
            "[0.01s per article - est. 0 minutes remaining]\n",
            "Skipping content for existing doc https://www.nytimes.com/2020/05/27/world/coronavirus-world-global.html\n",
            "[216/243] Fetch content for https://www.eurekalert.org/pub_releases/2020-05/uoj-ncm052920.php...\n",
            "[0.01s per article - est. 0 minutes remaining]\n",
            "Skipping content for existing doc https://www.eurekalert.org/pub_releases/2020-05/uoj-ncm052920.php\n",
            "[217/243] Fetch content for https://www.eurekalert.org/pub_releases/2020-05/bu-ahs052920.php...\n",
            "[0.01s per article - est. 0 minutes remaining]\n",
            "Skipping content for existing doc https://www.eurekalert.org/pub_releases/2020-05/bu-ahs052920.php\n",
            "[218/243] Fetch content for https://www.eurekalert.org/pub_releases/2020-05/ifas-bpf052920.php...\n",
            "[0.01s per article - est. 0 minutes remaining]\n",
            "Skipping content for existing doc https://www.eurekalert.org/pub_releases/2020-05/ifas-bpf052920.php\n",
            "[219/243] Fetch content for https://www.bbc.co.uk/news/uk-england-hampshire-52834029...\n",
            "[0.01s per article - est. 0 minutes remaining]\n",
            "Skipping content for existing doc https://www.bbc.co.uk/news/uk-england-hampshire-52834029\n",
            "[220/243] Fetch content for https://www.nytimes.com/2020/05/29/health/coronavirus-hydroxychloroquine.html...\n",
            "[0.01s per article - est. 0 minutes remaining]\n",
            "Skipping content for existing doc https://www.nytimes.com/2020/05/29/health/coronavirus-hydroxychloroquine.html\n",
            "[221/243] Fetch content for https://www.eurekalert.org/pub_releases/2020-05/puos-swt052820.php...\n",
            "[0.01s per article - est. 0 minutes remaining]\n",
            "Skipping content for existing doc https://www.eurekalert.org/pub_releases/2020-05/puos-swt052820.php\n",
            "[222/243] Fetch content for https://www.nytimes.com/2020/05/27/climate/covid-coronavirus-lyme-disease.html...\n",
            "[0.01s per article - est. 0 minutes remaining]\n",
            "Skipping content for existing doc https://www.nytimes.com/2020/05/27/climate/covid-coronavirus-lyme-disease.html\n",
            "[223/243] Fetch content for https://web.archive.org/web/20200528231017/https://www.nytimes.com/2020/05/28/us/coronavirus-news-usa.html...\n",
            "[0.01s per article - est. 0 minutes remaining]\n",
            "Skipping content for existing doc https://web.archive.org/web/20200528231017/https://www.nytimes.com/2020/05/28/us/coronavirus-news-usa.html\n",
            "[224/243] Fetch content for https://www.eurekalert.org/pub_releases/2020-05/vuot-tad052920.php...\n",
            "[0.01s per article - est. 0 minutes remaining]\n",
            "Skipping content for existing doc https://www.eurekalert.org/pub_releases/2020-05/vuot-tad052920.php\n",
            "[225/243] Fetch content for https://www.nytimes.com/2020/05/30/health/running-exercising-masks-coronavirus.html...\n",
            "[0.01s per article - est. 0 minutes remaining]\n",
            "Skipping content for existing doc https://www.nytimes.com/2020/05/30/health/running-exercising-masks-coronavirus.html\n",
            "[226/243] Fetch content for https://www.eurekalert.org/pub_releases/2020-05/eu-bta052920.php...\n",
            "[0.01s per article - est. 0 minutes remaining]\n",
            "Skipping content for existing doc https://www.eurekalert.org/pub_releases/2020-05/eu-bta052920.php\n",
            "[227/243] Fetch content for https://www.eurekalert.org/pub_releases/2020-06/ku-dad060120.php...\n",
            "[0.01s per article - est. 0 minutes remaining]\n",
            "Skipping content for existing doc https://www.eurekalert.org/pub_releases/2020-06/ku-dad060120.php\n",
            "[228/243] Fetch content for https://www.eurekalert.org/pub_releases/2020-06/mrap-dam060120.php...\n",
            "[0.01s per article - est. 0 minutes remaining]\n",
            "Skipping content for existing doc https://www.eurekalert.org/pub_releases/2020-06/mrap-dam060120.php\n",
            "[229/243] Fetch content for https://www.eurekalert.org/pub_releases/2020-06/ptgs-rst060120.php...\n",
            "[0.01s per article - est. 0 minutes remaining]\n",
            "Skipping content for existing doc https://www.eurekalert.org/pub_releases/2020-06/ptgs-rst060120.php\n",
            "[230/243] Fetch content for https://www.eurekalert.org/pub_releases/2020-06/epfd-fan060120.php...\n",
            "[0.01s per article - est. 0 minutes remaining]\n",
            "Skipping content for existing doc https://www.eurekalert.org/pub_releases/2020-06/epfd-fan060120.php\n",
            "[231/243] Fetch content for https://www.eurekalert.org/pub_releases/2020-06/su-nnb060120.php...\n",
            "[0.01s per article - est. 0 minutes remaining]\n",
            "Skipping content for existing doc https://www.eurekalert.org/pub_releases/2020-06/su-nnb060120.php\n",
            "[232/243] Fetch content for https://www.nytimes.com/2020/06/01/science/coronavirus-bats-wuhan.html...\n",
            "[0.01s per article - est. 0 minutes remaining]\n",
            "Skipping content for existing doc https://www.nytimes.com/2020/06/01/science/coronavirus-bats-wuhan.html\n",
            "[233/243] Fetch content for https://www.eurekalert.org/pub_releases/2020-06/ezdo-tct060120.php...\n",
            "[0.01s per article - est. 0 minutes remaining]\n",
            "Skipping content for existing doc https://www.eurekalert.org/pub_releases/2020-06/ezdo-tct060120.php\n",
            "[234/243] Fetch content for https://www.eurekalert.org/pub_releases/2020-06/uota-atc060120.php...\n",
            "[0.01s per article - est. 0 minutes remaining]\n",
            "Skipping content for existing doc https://www.eurekalert.org/pub_releases/2020-06/uota-atc060120.php\n",
            "[235/243] Fetch content for https://web.archive.org/web/20200601194811/https://www.nytimes.com/2020/06/01/science/mass-extinctions-are-accelerating-scientists-report.html...\n",
            "[0.01s per article - est. 0 minutes remaining]\n",
            "Skipping content for existing doc https://web.archive.org/web/20200601194811/https://www.nytimes.com/2020/06/01/science/mass-extinctions-are-accelerating-scientists-report.html\n",
            "[236/243] Fetch content for https://www.bbc.co.uk/news/science-environment-52921479...\n",
            "[0.01s per article - est. 0 minutes remaining]\n",
            "Skipping content for existing doc https://www.bbc.co.uk/news/science-environment-52921479\n",
            "[237/243] Fetch content for https://www.nytimes.com/article/how-to-read-a-science-study-coronavirus.html...\n",
            "[0.01s per article - est. 0 minutes remaining]\n",
            "Skipping content for existing doc https://www.nytimes.com/article/how-to-read-a-science-study-coronavirus.html\n",
            "[238/243] Fetch content for https://www.nytimes.com/2020/06/03/health/coronavirus-blood-type-genetics.html...\n",
            "[0.01s per article - est. 0 minutes remaining]\n",
            "Skipping content for existing doc https://www.nytimes.com/2020/06/03/health/coronavirus-blood-type-genetics.html\n",
            "[239/243] Fetch content for https://www.nytimes.com/2020/06/03/health/hydroxychloroquine-coronavirus-trump.html...\n",
            "[0.01s per article - est. 0 minutes remaining]\n",
            "Skipping content for existing doc https://www.nytimes.com/2020/06/03/health/hydroxychloroquine-coronavirus-trump.html\n",
            "[240/243] Fetch content for https://www.nytimes.com/2020/06/03/world/coronavirus-live.html...\n",
            "[0.01s per article - est. 0 minutes remaining]\n",
            "Skipping content for existing doc https://www.nytimes.com/2020/06/03/world/coronavirus-live.html\n",
            "[241/243] Fetch content for https://www.nytimes.com/article/coronavirus-facts-history.html...\n",
            "[0.01s per article - est. 0 minutes remaining]\n",
            "Skipping content for existing doc https://www.nytimes.com/article/coronavirus-facts-history.html\n",
            "[242/243] Fetch content for https://www.nytimes.com/2020/06/02/climate/deforestation-climate-change.html...\n",
            "[0.01s per article - est. 0 minutes remaining]\n",
            "Skipping content for existing doc https://www.nytimes.com/2020/06/02/climate/deforestation-climate-change.html\n",
            "[243/243] Fetch content for https://www.nytimes.com/2020/06/01/health/coronavirus-mysteries.html...\n",
            "[0.01s per article - est. 0 minutes remaining]\n",
            "Skipping content for existing doc https://www.nytimes.com/2020/06/01/health/coronavirus-mysteries.html\n"
          ],
          "name": "stdout"
        }
      ]
    },
    {
      "cell_type": "markdown",
      "metadata": {
        "id": "8EO0eWZz0_TE"
      },
      "source": [
        "We now import and initialize the grenander summarisation model with default configuration values"
      ]
    },
    {
      "cell_type": "code",
      "metadata": {
        "id": "NYFi2Tb21Lx_"
      },
      "source": [
        "import sys\n",
        "\n",
        "sys.path.append('/content/banditsum-kl/src')\n",
        "\n",
        "import helper\n",
        "import pickle\n",
        "import argparse\n",
        "\n",
        "VOCAB_FILE = \"banditsum-kl/data/vocab/vocab_100d.p\"\n",
        "\n",
        "with open(VOCAB_FILE, 'rb') as f:\n",
        "    vocab = pickle.load(f, encoding='latin1')\n",
        "\n",
        "args = argparse.Namespace()\n",
        "args.vocab_size=len(vocab.word_list)\n",
        "args.hidden=200\n",
        "args.embedding_dim = 100\n",
        "args.position_size = 500\n",
        "args.position_dim = 50\n",
        "args.word_input_size = 100\n",
        "args.sent_input_size = 2 * args.hidden\n",
        "args.word_LSTM_hidden_units = args.hidden\n",
        "args.sent_LSTM_hidden_units = args.hidden\n",
        "args.pretrained_embedding = vocab.embedding\n",
        "args.word2id = vocab.w2i\n",
        "args.id2word = vocab.i2w\n",
        "args.rl_sample_size=20\n",
        "args.epsilon=0.1\n",
        "args.max_num_sents=3\n",
        "args.kl_method='none'\n",
        "args.kl_weight=0.0095\n",
        "args.model_file = \"banditsum-kl/model/banditsum_kl_model.pt\""
      ],
      "execution_count": 185,
      "outputs": []
    },
    {
      "cell_type": "markdown",
      "metadata": {
        "id": "1NNQfRR71ou9"
      },
      "source": [
        "we define some helper functions for carrying out the summarisation itself"
      ]
    },
    {
      "cell_type": "code",
      "metadata": {
        "id": "FaLOT8NV2-HW"
      },
      "source": [
        "import torch\n",
        "from model import SimpleRNN\n",
        "\n",
        "def convert_tokens_to_ids(doc, args):\n",
        "    max_len = len(max(doc, key=lambda x: len(x)))\n",
        "    sent_list = []\n",
        "    for i in range(len(doc)):\n",
        "        words = doc[i]\n",
        "        sent = [args.word2id[word] if word in args.word2id else 1 for word in words]\n",
        "        sent += [0 for _ in range(max_len - len(sent))]  # this is to pad at the end of each sequence\n",
        "        sent_list.append(sent)\n",
        "    return torch.tensor(sent_list).long()\n",
        "\n",
        "def init_model(args):\n",
        "    rewards = {\"train\": None, \"train_single\": None, \"dev\": None, \"dev_single\": None}\n",
        "    model = SimpleRNN(args, rewards)\n",
        "    model.cuda()\n",
        "    checkpoint = torch.load(args.model_file)\n",
        "    model.load_state_dict(checkpoint['model_state_dict'])\n",
        "    model.eval()\n",
        "    \n",
        "    return model\n",
        "\n",
        "def summarize(text, spacy_nlp, model):\n",
        "    \n",
        "    doc = spacy_nlp(text)\n",
        "    \n",
        "    sentwords = []\n",
        "\n",
        "    for sent in doc.sents:\n",
        "        words = [word.text for word in sent if not word.is_punct]\n",
        "        if len(words) > 1:\n",
        "            sentwords.append(words)\n",
        "            \n",
        "    doc_ids = convert_tokens_to_ids(sentwords, args)\n",
        "        \n",
        "    with torch.no_grad():\n",
        "            summary_idx = model(doc_ids.cuda())\n",
        "        \n",
        "    sents = [sent for i,sent in enumerate(doc.sents) if i in summary_idx]\n",
        "    \n",
        "    summ = \" \".join([s.text for s in sents])\n",
        "    \n",
        "    return summ"
      ],
      "execution_count": 5,
      "outputs": []
    },
    {
      "cell_type": "markdown",
      "metadata": {
        "id": "yRfuh0An2r2x"
      },
      "source": [
        "we load the news text from `news_content.json` and metadata from `news_urls.json` which tells the summarizer what options to use and what the checksum of the final summary should be in order to match the original corpus."
      ]
    },
    {
      "cell_type": "code",
      "metadata": {
        "id": "0gAvAMAD3YM4"
      },
      "source": [
        "import json\n",
        "\n",
        "with open(\"news_urls.json\",'r') as f:\n",
        "  news_urls = json.load(f)\n",
        "\n",
        "with open(\"news_content.json\",\"r\") as f:\n",
        "  news_content = json.load(f)"
      ],
      "execution_count": 338,
      "outputs": []
    },
    {
      "cell_type": "markdown",
      "metadata": {
        "id": "_jRkAKJY3W_T"
      },
      "source": [
        "The summarisation and spacy NLP models are loaded and prepared"
      ]
    },
    {
      "cell_type": "code",
      "metadata": {
        "id": "lZ94htwq3fau"
      },
      "source": [
        "import torch\n",
        "import spacy\n",
        "\n",
        "model = init_model(args)\n",
        "nlp = spacy.load('en')\n"
      ],
      "execution_count": 8,
      "outputs": []
    },
    {
      "cell_type": "markdown",
      "metadata": {
        "id": "Xf8me83B3aS4"
      },
      "source": [
        "The summarisation process is carried out for each news article."
      ]
    },
    {
      "cell_type": "code",
      "metadata": {
        "id": "XplkLTIamuja",
        "outputId": "8e911263-3b7b-40c6-d592-8b3e5dcecc33",
        "colab": {
          "base_uri": "https://localhost:8080/",
          "height": 84,
          "referenced_widgets": [
            "d4d9bdf558984e78bd3f1ed5a31d590a",
            "573863dee716419499e08fd9c0380f1d",
            "02131aecdedc476e8406252e56d9a6a0",
            "30de4b3ca5cd4a809ebcba878e80cba2",
            "d63a50ebeea74d70af3f368fcbdf2315",
            "dc35b47d7c3d41749c2dc558f3890bf9",
            "11a978fbe35d452d8f13a3d5589ce89d",
            "e6aa506abc494f5d88b5dd00e23a320e"
          ]
        }
      },
      "source": [
        "import hashlib\n",
        "import re\n",
        "from tqdm.auto import tqdm\n",
        "\n",
        "\n",
        "#prev_match = match\n",
        "#match = {}\n",
        "nomatch = []\n",
        "nocontent = []\n",
        "\n",
        "for id, news_obj in tqdm(news_urls.items()):\n",
        "\n",
        "  if news_obj['url'] in match:\n",
        "    continue\n",
        "\n",
        "  content = news_content.get(news_obj['url'], \"\")\n",
        "\n",
        "  #if news_obj['url'] == 'https://web.archive.org/web/20160820032329/http://www.telegraph.co.uk/news/health/news/9633402/Closed-drug-trials-leave-patients-at-risk-and-doctors-in-the-dark.html':\n",
        "  #  news_obj['str_insert'] = [{\"str\":\" \", \"loc\":161}]\n",
        "  \n",
        "\n",
        "  #if news_obj['url'] in nomatch and \"theguardian.com\" in news_obj['url']:\n",
        "  #  news_obj['strip_specialchars'] = False\n",
        "\n",
        "  if content != \"\":\n",
        "    if news_obj.get('strip_specialchars',True):\n",
        "      content = re.sub(r'[^\\x00-\\x7F\\x80-\\xFF\\u0100-\\u017F\\u0180-\\u024F\\u1E00-\\u1EFF]', '', content) \n",
        "\n",
        "    if news_obj.get('strip_newlines', True):\n",
        "      content = content .replace(\"\\n\\n\",\" \")\n",
        "    #else:\n",
        "    #  print(news_obj['url'])\n",
        "  \n",
        "    if news_obj.get('strip_whitespace',False):\n",
        "      content = re.sub(r\"[^\\S]+\", \" \", content)\n",
        "\n",
        "    summary = summarize(content, nlp, model).replace(\"\\n\",\"\").strip()\n",
        "\n",
        "    for insert in sorted(news_obj.get(\"str_insert\", []), key=lambda x:x['loc'], reverse=False):\n",
        "      summary = summary[:insert['loc']] + insert['str'] + summary[insert['loc']:]\n",
        "\n",
        "    # if news_obj['url'] == 'https://www.theguardian.com/science/2015/jul/23/genes-influence-academic-ability-across-all-subjects-latest-study-shows':\n",
        "    #   print(summary)\n",
        "    #   break\n",
        "    h = hashlib.new('sha256', summary.encode('utf8'))\n",
        "\n",
        "    if h.hexdigest() == news_obj['sha256']:\n",
        "      print(f\"Match {news_obj['url']}\")\n",
        "      match[news_obj['url']] = summary\n",
        "    else:\n",
        "      nomatch.append(news_obj['url'])\n",
        "  else:\n",
        "    nocontent.append(news_obj['url'])\n"
      ],
      "execution_count": 340,
      "outputs": [
        {
          "output_type": "display_data",
          "data": {
            "application/vnd.jupyter.widget-view+json": {
              "model_id": "d4d9bdf558984e78bd3f1ed5a31d590a",
              "version_minor": 0,
              "version_major": 2
            },
            "text/plain": [
              "HBox(children=(FloatProgress(value=0.0, max=243.0), HTML(value='')))"
            ]
          },
          "metadata": {
            "tags": []
          }
        },
        {
          "output_type": "stream",
          "text": [
            "Match https://www.theguardian.com/science/2015/jul/23/genes-influence-academic-ability-across-all-subjects-latest-study-shows\n",
            "\n"
          ],
          "name": "stdout"
        }
      ]
    },
    {
      "cell_type": "code",
      "metadata": {
        "id": "cE5vZixpAHxl",
        "outputId": "ec9e8220-19d2-417e-ea77-a5128eec8cd8",
        "colab": {
          "base_uri": "https://localhost:8080/",
          "height": 34
        }
      },
      "source": [
        "len(match)"
      ],
      "execution_count": 341,
      "outputs": [
        {
          "output_type": "execute_result",
          "data": {
            "text/plain": [
              "171"
            ]
          },
          "metadata": {
            "tags": []
          },
          "execution_count": 341
        }
      ]
    },
    {
      "cell_type": "code",
      "metadata": {
        "id": "5M6-lymdn0di",
        "outputId": "b0703098-efcb-4739-d1f6-27b00603a39d",
        "colab": {
          "base_uri": "https://localhost:8080/",
          "height": 34
        }
      },
      "source": [
        "len(nocontent)"
      ],
      "execution_count": 218,
      "outputs": [
        {
          "output_type": "execute_result",
          "data": {
            "text/plain": [
              "0"
            ]
          },
          "metadata": {
            "tags": []
          },
          "execution_count": 218
        }
      ]
    },
    {
      "cell_type": "code",
      "metadata": {
        "id": "o_i_awQKoBXF",
        "outputId": "5afefc4f-39d8-4f4e-de14-f5eada43cd6f",
        "colab": {
          "base_uri": "https://localhost:8080/",
          "height": 34
        }
      },
      "source": [
        "len(nomatch)"
      ],
      "execution_count": 342,
      "outputs": [
        {
          "output_type": "execute_result",
          "data": {
            "text/plain": [
              "72"
            ]
          },
          "metadata": {
            "tags": []
          },
          "execution_count": 342
        }
      ]
    },
    {
      "cell_type": "code",
      "metadata": {
        "id": "AsWCl49BaAoi",
        "outputId": "fc8c8729-dc65-48a6-f743-f4605dff8a71",
        "colab": {
          "base_uri": "https://localhost:8080/",
          "height": 1000
        }
      },
      "source": [
        "nomatch"
      ],
      "execution_count": 325,
      "outputs": [
        {
          "output_type": "execute_result",
          "data": {
            "text/plain": [
              "['https://web.archive.org/web/20190308160419/http://news.bbc.co.uk/2/hi/science/nature/4640420.stm',\n",
              " 'https://www.eurekalert.org/pub_releases/2020-04/ibri-ndi042120.php',\n",
              " 'https://www.eurekalert.org/pub_releases/2020-04/kauo-bpe040720.php',\n",
              " 'https://www.eurekalert.org/pub_releases/2020-04/tiot-ftw042420.php',\n",
              " 'https://www.eurekalert.org/pub_releases/2020-04/uoc-qru042120.php',\n",
              " 'https://www.theguardian.com/science/2015/jul/23/genes-influence-academic-ability-across-all-subjects-latest-study-shows',\n",
              " 'https://www.theguardian.com/science/2016/apr/25/musical-play-may-boost-understanding-and-long-term-learning-in-babies',\n",
              " 'https://www.theguardian.com/science/2016/jul/20/updated-map-of-the-human-brain-hailed-as-a-scientific-tour-de-force',\n",
              " 'https://www.theguardian.com/science/2016/jun/08/doctors-edge-closer-to-creating-babies-with-dna-from-three-people',\n",
              " 'https://www.theguardian.com/science/2016/may/02/could-these-newly-discovered-planets-orbiting-an-ultracool-dwarf-host-life',\n",
              " 'https://www.theguardian.com/science/2017/apr/04/geologists-reveal-how-violent-brexit-10-separated-britain-from-europe',\n",
              " 'https://www.theguardian.com/science/2017/aug/01/mother-of-all-blooms-is-this-what-the-last-common-ancestor-of-flowers-looked-like',\n",
              " 'https://www.theguardian.com/science/2017/aug/30/volcanic-eruptions-triggered-global-warming-56m-years-ago-study-reveals',\n",
              " 'https://www.theguardian.com/science/2017/nov/09/unlucky-dinosaurs-no-extinction-if-asteroid-had-hit-almost-any-other-part-of-earth',\n",
              " 'https://www.theguardian.com/science/2017/nov/13/facebook-likes-targeted-advertising-psychological-persuasion-academics-research',\n",
              " 'https://www.theguardian.com/science/2018/jan/29/vaping-may-raise-cancer-and-heart-disease-risk-study-suggests',\n",
              " 'https://www.theguardian.com/science/2018/may/02/plants-talk-to-each-other-through-their-roots',\n",
              " 'https://www.theguardian.com/science/grrlscientist/2015/jul/30/golden-jackal-a-new-wolf-species-hiding-in-plain-sight',\n",
              " 'https://www.theguardian.com/world/2020/apr/07/plasma-from-coronavirus-survivors-found-to-help-severely-ill-patients',\n",
              " 'https://web.archive.org/web/20160616160714/http://www.bbc.co.uk/news/health-13766152',\n",
              " 'https://web.archive.org/web/20160304052653/http://www.bbc.co.uk/news/health-15571711',\n",
              " 'https://web.archive.org/web/20171224234010/http://www.bbc.co.uk/news/science-environment-17857641',\n",
              " 'http://www.bbc.co.uk/news/science-environment-19208400?print=true',\n",
              " 'http://www.bbc.co.uk/news/science-environment-19898947?print=true',\n",
              " 'http://www.bbc.co.uk/news/science-environment-20958060?postId=114919998',\n",
              " 'http://www.bbc.co.uk/news/science-environment-22355187',\n",
              " 'http://www.express.co.uk/posts/view/308227/horoscopes/forecast/Sagittarius/9/.google-analytics.com/ga.js',\n",
              " 'http://wwwnews.live.bbc.co.uk/news/health-15572990',\n",
              " 'http://wwwnews.live.bbc.co.uk/news/science-environment-11525087',\n",
              " 'http://wwwnews.live.bbc.co.uk/news/science-environment-14947363',\n",
              " 'http://wwwnews.live.bbc.co.uk/news/science-environment-16811042',\n",
              " 'http://wwwnews.live.bbc.co.uk/news/science-environment-16811042?print=true',\n",
              " 'http://wwwnews.live.bbc.co.uk/news/science-environment-19180983?print=true',\n",
              " 'http://wwwnews.live.bbc.co.uk/news/science-environment-19898947',\n",
              " 'https://web.archive.org/web/20160820032329/http://www.telegraph.co.uk/news/health/news/9633402/Closed-drug-trials-leave-patients-at-risk-and-doctors-in-the-dark.html',\n",
              " 'https://www.eurekalert.org/pub_releases/2020-04/tuot-ass040920.php',\n",
              " 'https://www.eurekalert.org/pub_releases/2020-04/nyio-aah040920.php',\n",
              " 'https://www.theguardian.com/environment/2020/apr/14/worldwide-climate-commitments-economy-emissions',\n",
              " 'https://www.eurekalert.org/pub_releases/2020-04/tuoh-n3i041420.php',\n",
              " 'https://www.eurekalert.org/pub_releases/2020-04/kfu-hse041020.php',\n",
              " 'https://www.theguardian.com/environment/2020/apr/18/covid-19-a-blessing-for-pangolins',\n",
              " 'https://www.eurekalert.org/pub_releases/2020-04/pu-trl040920.php',\n",
              " 'https://www.eurekalert.org/pub_releases/2020-04/epfd-csi042420.php',\n",
              " 'https://www.nytimes.com/2020/04/18/health/coronavirus-america-future.html',\n",
              " 'https://www.nytimes.com/2020/04/21/us/coronavirus-updates.html',\n",
              " 'https://www.nytimes.com/2020/05/04/health/fda-antibody-tests-coronavirus.html',\n",
              " 'https://www.nytimes.com/2020/05/06/climate/new-york-coronavirus-composting.html',\n",
              " 'https://www.eurekalert.org/pub_releases/2020-05/tuot-icw050120.php',\n",
              " 'https://www.eurekalert.org/pub_releases/2020-05/tifb-csa051920.php',\n",
              " 'https://www.nytimes.com/2020/05/22/health/coronavirus-vaccine-china.html',\n",
              " 'https://www.nytimes.com/2020/05/22/world/live-coronavirus-world-cases.html',\n",
              " 'https://www.theguardian.com/science/2020/may/28/questions-raised-over-hydroxychloroquine-study-which-caused-who-to-halt-trials-for-covid-19',\n",
              " 'https://www.nytimes.com/2020/05/27/us/coronavirus-live-news-updates.html',\n",
              " 'https://www.bbc.co.uk/news/science-environment-52845990',\n",
              " 'https://www.theguardian.com/commentisfree/2020/may/28/coronavirus-infection-rate-too-high-second-wave',\n",
              " 'https://www.eurekalert.org/pub_releases/2020-05/uoia-sis052920.php',\n",
              " 'https://www.nytimes.com/2020/05/27/world/coronavirus-world-global.html',\n",
              " 'https://www.eurekalert.org/pub_releases/2020-05/uoj-ncm052920.php',\n",
              " 'https://www.eurekalert.org/pub_releases/2020-05/puos-swt052820.php',\n",
              " 'https://web.archive.org/web/20200528231017/https://www.nytimes.com/2020/05/28/us/coronavirus-news-usa.html',\n",
              " 'https://www.nytimes.com/2020/05/30/health/running-exercising-masks-coronavirus.html',\n",
              " 'https://www.eurekalert.org/pub_releases/2020-05/eu-bta052920.php',\n",
              " 'https://www.eurekalert.org/pub_releases/2020-06/ku-dad060120.php',\n",
              " 'https://www.eurekalert.org/pub_releases/2020-06/mrap-dam060120.php',\n",
              " 'https://www.eurekalert.org/pub_releases/2020-06/ptgs-rst060120.php',\n",
              " 'https://www.eurekalert.org/pub_releases/2020-06/epfd-fan060120.php',\n",
              " 'https://www.eurekalert.org/pub_releases/2020-06/su-nnb060120.php',\n",
              " 'https://www.eurekalert.org/pub_releases/2020-06/ezdo-tct060120.php',\n",
              " 'https://www.eurekalert.org/pub_releases/2020-06/uota-atc060120.php',\n",
              " 'https://www.nytimes.com/2020/06/03/health/coronavirus-blood-type-genetics.html',\n",
              " 'https://www.nytimes.com/2020/06/03/world/coronavirus-live.html',\n",
              " 'https://www.nytimes.com/article/coronavirus-facts-history.html',\n",
              " 'https://www.nytimes.com/2020/06/01/health/coronavirus-mysteries.html']"
            ]
          },
          "metadata": {
            "tags": []
          },
          "execution_count": 325
        }
      ]
    },
    {
      "cell_type": "code",
      "metadata": {
        "id": "2GRRnlKeRHqG",
        "outputId": "25572dd7-22ad-4008-ceb3-01c74e8ed317",
        "colab": {
          "base_uri": "https://localhost:8080/",
          "height": 123
        }
      },
      "source": [
        "from newspaper import Article\n",
        "a = Article(url=url)\n",
        "a.download()\n",
        "a.parse()\n",
        "a.text"
      ],
      "execution_count": 150,
      "outputs": [
        {
          "output_type": "execute_result",
          "data": {
            "application/vnd.google.colaboratory.intrinsic+json": {
              "type": "string"
            },
            "text/plain": [
              "'Tiny droplets of saliva that are sprayed into the air when people speak may be sufficient to spread coronavirus, according to US government scientists who say the finding could help control the outbreak.\\n\\nResearchers at the US National Institutes of Health (NIH) in Maryland found that talking released thousands of fine droplets into the air that could pose a risk to others if the speaker were infected with the virus.\\n\\nThe scientists used laser imaging and high-speed videography to show how thousands of droplets that are too small to see with the naked eye are emitted in normal speech, even in short phrases such as “stay healthy”.\\n\\nThe work is preliminary and has not been peer-reviewed or published, but in a report the scientists claim the findings may have “vital implications” for containing the pandemic.\\n\\n“If speaking and oral fluid viral load proves to be a major mechanism of Sars-CoV-2 [the official name of the virus] transmission, wearing any kind of cloth mouth cover in public by every person, as well as strict adherence to social distancing and handwashing, could significantly decrease the transmission rate and thereby contain the pandemic until a vaccine becomes available,” the researchers write.\\n\\nThe results will fuel the ongoing debate over whether or not healthy people should wear face masks in public. Recent advice from the US Centers for Disease Control and Prevention called for members of the public to wear cloth face covers when they visit places where it is hard to maintain physical distancing, such as pharmacies and grocery stores.\\n\\nBut the US advice contrasts with that from the World Health Organization, which reviewed its stance on face masks last week. In updated guidance published on Monday it restated that there was no evidence wearing a mask in public prevented people from picking up respiratory infections such as Covid-19.\\n\\nThe positions are not as conflicting as they seem, though. The WHO concedes that people who are infected with the virus but do not show symptoms can still spread the virus, and that a mask may reduce the number of droplets they spray into the air. Their primary argument is that wearing a mask in public is unlikely to protect the wearer from viruses, which can penetrate cloth masks, and the virus can still invade the body through the eyes.\\n\\nThe US team, led by Adriaan Bax at the NIH’s Laboratory of Chemical Physics, repurposed laser instrumentation to detect otherwise invisible mists of droplets that are released when people speak. In a single 17-millisecond frame they counted as many as 360 saliva droplets when the phrase “stay healthy” was spoken.\\n\\nThe scientists have not analysed the droplets for their ability to carry coronavirus particles but said they were sufficiently large to carry a variety of respiratory pathogens including the measles and influenza viruses.\\n\\n“A damp homemade cloth face mask dramatically reduced droplet excretion, with none of the spoken words causing a droplet rise above the background,” the scientists said.'"
            ]
          },
          "metadata": {
            "tags": []
          },
          "execution_count": 150
        }
      ]
    },
    {
      "cell_type": "code",
      "metadata": {
        "id": "-FzuLUtwcfWB",
        "outputId": "d4f3c98d-e01d-4216-9e36-193c0584d6e2",
        "colab": {
          "base_uri": "https://localhost:8080/",
          "height": 34
        }
      },
      "source": [
        "from importlib import reload\n",
        "\n",
        "import webgetter\n",
        "reload(webgetter)"
      ],
      "execution_count": 62,
      "outputs": [
        {
          "output_type": "execute_result",
          "data": {
            "text/plain": [
              "<module 'webgetter' from '/content/webgetter.py'>"
            ]
          },
          "metadata": {
            "tags": []
          },
          "execution_count": 62
        }
      ]
    },
    {
      "cell_type": "code",
      "metadata": {
        "id": "6Y814jrcnKUm",
        "outputId": "9959665b-aecb-4a57-ad72-55e517e156a5",
        "colab": {
          "base_uri": "https://localhost:8080/",
          "height": 34
        }
      },
      "source": [
        "import requests\n",
        "from bs4 import BeautifulSoup\n",
        "r = requests.get(url)\n",
        "\n",
        "bs = BeautifulSoup(r.text)\n",
        "\n",
        "bs.select('.content__standfirst p')"
      ],
      "execution_count": 170,
      "outputs": [
        {
          "output_type": "execute_result",
          "data": {
            "text/plain": [
              "[<p>US scientists say findings add to case for wearing masks in public to control outbreak</p>]"
            ]
          },
          "metadata": {
            "tags": []
          },
          "execution_count": 170
        }
      ]
    },
    {
      "cell_type": "code",
      "metadata": {
        "id": "Bp77llagcty_",
        "outputId": "1ba7f3b0-12d1-41f3-d076-04817b3f3209",
        "colab": {
          "base_uri": "https://localhost:8080/",
          "height": 123
        }
      },
      "source": [
        "eureka_sel =  \".entry p\"\n",
        "guardian_sel = \".content__standfirst, .content__article-body p\"\n",
        "nyt_sel = \".StoryBodyCompanionColumn p\"\n",
        "\n",
        "content = get_body_text(url, guardian_sel)\n",
        "#doc = nlp(webgetter.get_body_text(url, guardian_sel, join_str=\"\"))\n",
        "#sentences = [sent.text.strip() for sent in doc.sents]\n",
        "#content = \"\".join(sentences)\n",
        "\n",
        "#content\n",
        "#content = re.sub(r'[^\\x00-\\x7F\\x80-\\xFF\\u0100-\\u017F\\u0180-\\u024F\\u1E00-\\u1EFF]', '', content)\n",
        "#content = content.replace(\"\\n\\n\",\" \")\n",
        "#content = re.sub(r\"[\\s]+\", \" \", content)\n",
        "\n",
        "content"
      ],
      "execution_count": 317,
      "outputs": [
        {
          "output_type": "execute_result",
          "data": {
            "application/vnd.google.colaboratory.intrinsic+json": {
              "type": "string"
            },
            "text/plain": [
              "'Around 60% of differences in GCSE results can be explained by genetic factors, with the same genes responsible for maths, science and the humanities You may feel you are just not a maths person, or that you have a special gift for languages, but scientists have shown that the genes influencing numerical skills are the same ones that determine abilities in reading, arts and humanities. The study suggests that if you have an academic Achilles heel, environmental factors such as a teaching are more likely to be to blame. The findings add to growing evidence that school performance has a large heritable component, with around 60% of the differences in pupil’s GCSE results being explained by genetic factors. Although scientists are yet to pinpoint specific genes, the latest work, published in the journal Scientific Reports, suggests that the same ones are involved across subjects. Robert Plomin, a professor of genetics at King’s College London and the study’s senior author, said: “We found that academic achievement in English, mathematics, science, humanities, second languages and art were all affected by the same genes. People may think that they’re good at one subject and bad at another, but in reality most people are strikingly consistent.” In the future, if specific genes were identified, nursery children could be screened to help target those who are likely to require more help learning basic skills such as reading and arithmetic, Plomin added. The researchers analysed genetic data and GCSE scores from 12,500 twins, about half of whom were identical. Results in all subjects, including maths, science, art and humanities, were highly heritable, with genes explaining a bigger proportion of the differences between children (54-65%) than environmental factors, such as school and family combined (14-21%), which were shared by the twins. Comparing the outcomes for identical twins with fraternal twins allows scientists to investigate the extent to which genetics influence a person’s life. Identical twins share 100% of their genes, whereas fraternal twins share on average only half of the genes that differ between people. So if genetics were a significant factor governing GCSE results, the differences between fraternal twins’ performances would be expected to be consistently greater than those between identical twins – and this is what the scientists saw. When the scientists factored in IQ scores, they found that intelligence appeared to account for slightly less than half of the genetic component, suggesting that other heritable traits – curiosity, determination and memory, perhaps – play a significant role. Kaili Rimfeld, who led the study and is also at King’s College London, said: “There’s a general academic achievement factor. Children who do well in one subject tend to better in another subject and that is largely for genetic reasons.” Plomin said that while talking about genetics and education was no longer the taboo that it was twenty years ago, education professionals were slow to adapt teaching methods in the face of new scientific findings. “It’s a problem with evidence,” he said. “Thirty years ago medicine wasn’t particularly evidence-based. I think education is fundamentally not based on evidence. What programme has been rolled out that has been based on evidence? We ought to hold educationalists to the same standards of evidence as medicine.” However, other scientists cautioned that it was too early to take the latest findings and apply them in schools. John Hardy, professor of neuroscience at University College London, said: “Twin studies are a mainstay of behavioural genetics, but they make a simple assumption that is unlikely to be true - that is that we treat identical twins the same as we treat non-identical twins. These results are interesting, therefore, but by no means definitive and it would be unwise to make educational decisions based on these data.”'"
            ]
          },
          "metadata": {
            "tags": []
          },
          "execution_count": 317
        }
      ]
    },
    {
      "cell_type": "code",
      "metadata": {
        "id": "ABdpCx8uq7x_"
      },
      "source": [
        "url='https://www.theguardian.com/science/2015/jul/23/genes-influence-academic-ability-across-all-subjects-latest-study-shows'"
      ],
      "execution_count": 314,
      "outputs": []
    },
    {
      "cell_type": "code",
      "metadata": {
        "id": "7kbxk366o7bT",
        "outputId": "83c61dd0-2883-406d-a3a2-fc636fd345a2",
        "colab": {
          "base_uri": "https://localhost:8080/",
          "height": 123
        }
      },
      "source": [
        "content = news_content[url]\n",
        "#content = a.text\n",
        "#doc = nlp(content)\n",
        "#sentences = [sent.text.strip() for sent in doc.sents]\n",
        "#content = content.replace(\"\\n\\n\",\" \")\n",
        "#content = re.sub(r'[^\\x00-\\x7F\\x80-\\xFF\\u0100-\\u017F\\u0180-\\u024F\\u1E00-\\u1EFF]', '', content)\n",
        "#content = re.sub(r\"[\\s]+\", \" \", content)\n",
        "#content = re.sub(r\"[\\'\\\"]\")\n",
        "\n",
        "#content = \" \".join(sentences)\n",
        "content"
      ],
      "execution_count": 327,
      "outputs": [
        {
          "output_type": "execute_result",
          "data": {
            "application/vnd.google.colaboratory.intrinsic+json": {
              "type": "string"
            },
            "text/plain": [
              "'Around 60% of differences in GCSE results can be explained by genetic factors, with the same genes responsible for maths, science and the humanities You may feel you are just not a maths person, or that you have a special gift for languages, but scientists have shown that the genes influencing numerical skills are the same ones that determine abilities in reading, arts and humanities. The study suggests that if you have an academic Achilles heel, environmental factors such as a teaching are more likely to be to blame. The findings add to growing evidence that school performance has a large heritable component, with around 60% of the differences in pupil’s GCSE results being explained by genetic factors. Although scientists are yet to pinpoint specific genes, the latest work, published in the journal Scientific Reports, suggests that the same ones are involved across subjects. Robert Plomin, a professor of genetics at King’s College London and the study’s senior author, said: “We found that academic achievement in English, mathematics, science, humanities, second languages and art were all affected by the same genes. People may think that they’re good at one subject and bad at another, but in reality most people are strikingly consistent.” In the future, if specific genes were identified, nursery children could be screened to help target those who are likely to require more help learning basic skills such as reading and arithmetic, Plomin added. The researchers analysed genetic data and GCSE scores from 12,500 twins, about half of whom were identical. Results in all subjects, including maths, science, art and humanities, were highly heritable, with genes explaining a bigger proportion of the differences between children (54-65%) than environmental factors, such as school and family combined (14-21%), which were shared by the twins. Comparing the outcomes for identical twins with fraternal twins allows scientists to investigate the extent to which genetics influence a person’s life. Identical twins share 100% of their genes, whereas fraternal twins share on average only half of the genes that differ between people. So if genetics were a significant factor governing GCSE results, the differences between fraternal twins’ performances would be expected to be consistently greater than those between identical twins – and this is what the scientists saw. When the scientists factored in IQ scores, they found that intelligence appeared to account for slightly less than half of the genetic component, suggesting that other heritable traits – curiosity, determination and memory, perhaps – play a significant role. Kaili Rimfeld, who led the study and is also at King’s College London, said: “There’s a general academic achievement factor. Children who do well in one subject tend to better in another subject and that is largely for genetic reasons.” Plomin said that while talking about genetics and education was no longer the taboo that it was twenty years ago, education professionals were slow to adapt teaching methods in the face of new scientific findings. “It’s a problem with evidence,” he said. “Thirty years ago medicine wasn’t particularly evidence-based. I think education is fundamentally not based on evidence. What programme has been rolled out that has been based on evidence? We ought to hold educationalists to the same standards of evidence as medicine.” However, other scientists cautioned that it was too early to take the latest findings and apply them in schools. John Hardy, professor of neuroscience at University College London, said: “Twin studies are a mainstay of behavioural genetics, but they make a simple assumption that is unlikely to be true - that is that we treat identical twins the same as we treat non-identical twins. These results are interesting, therefore, but by no means definitive and it would be unwise to make educational decisions based on these data.”'"
            ]
          },
          "metadata": {
            "tags": []
          },
          "execution_count": 327
        }
      ]
    },
    {
      "cell_type": "code",
      "metadata": {
        "id": "t90Wqs_nozJ1",
        "outputId": "f9495893-82aa-449e-d235-0ca8235f5162",
        "colab": {
          "base_uri": "https://localhost:8080/",
          "height": 54
        }
      },
      "source": [
        "newsum =summarize(content, nlp, model)\n",
        "#newsum = re.sub(r\"[^\\S]+\", \" \", newsum).strip()\n",
        "print(newsum)"
      ],
      "execution_count": 328,
      "outputs": [
        {
          "output_type": "stream",
          "text": [
            "Around 60% of differences in GCSE results can be explained by genetic factors, with the same genes responsible for maths, science and the humanities You may feel you are just not a maths person, or that you have a special gift for languages, but scientists have shown that the genes influencing numerical skills are the same ones that determine abilities in reading, arts and humanities. The study suggests that if you have an academic Achilles heel, environmental factors such as a teaching are more likely to be to blame. The findings add to growing evidence that school performance has a large heritable component, with around 60% of the differences in pupil’s\n"
          ],
          "name": "stdout"
        }
      ]
    },
    {
      "cell_type": "code",
      "metadata": {
        "id": "ajagLVZzWGla",
        "outputId": "5ab1705b-5e7b-4db1-c125-3fa97d82312a",
        "colab": {
          "base_uri": "https://localhost:8080/",
          "height": 54
        }
      },
      "source": [
        "oldsum = \"\"\"Around 60% of differences in GCSE results can be explained by genetic factors, with the same genes responsible for maths, science and the humanities You may feel you are just not a maths person, or that you have a special gift for languages, but scientists have shown that the genes influencing numerical skills are the same ones that determine abilities in reading, arts and humanities. The study suggests that if you have an academic Achilles heel, environmental factors such as a teaching are more likely to be to blame. The findings add to growing evidence that school performance has a large heritable component, with around 60% of the differences in pupil’s\"\"\"\n",
        "oldsum = re.sub(r\"[^\\S]+\", \" \", oldsum)\n",
        "print(oldsum)"
      ],
      "execution_count": 329,
      "outputs": [
        {
          "output_type": "stream",
          "text": [
            "Around 60% of differences in GCSE results can be explained by genetic factors, with the same genes responsible for maths, science and the humanities You may feel you are just not a maths person, or that you have a special gift for languages, but scientists have shown that the genes influencing numerical skills are the same ones that determine abilities in reading, arts and humanities. The study suggests that if you have an academic Achilles heel, environmental factors such as a teaching are more likely to be to blame. The findings add to growing evidence that school performance has a large heritable component, with around 60% of the differences in pupil’s\n"
          ],
          "name": "stdout"
        }
      ]
    },
    {
      "cell_type": "code",
      "metadata": {
        "id": "-fU38_1YYYcJ",
        "outputId": "77828a6d-2b13-4759-9848-005ba1bb793e",
        "colab": {
          "base_uri": "https://localhost:8080/",
          "height": 34
        }
      },
      "source": [
        "len(oldsum)"
      ],
      "execution_count": 330,
      "outputs": [
        {
          "output_type": "execute_result",
          "data": {
            "text/plain": [
              "663"
            ]
          },
          "metadata": {
            "tags": []
          },
          "execution_count": 330
        }
      ]
    },
    {
      "cell_type": "code",
      "metadata": {
        "id": "xnNmDErAYZpU",
        "outputId": "8f50f5d1-b671-47f1-ebda-445daf906bff",
        "colab": {
          "base_uri": "https://localhost:8080/",
          "height": 34
        }
      },
      "source": [
        "len(newsum)"
      ],
      "execution_count": 331,
      "outputs": [
        {
          "output_type": "execute_result",
          "data": {
            "text/plain": [
              "663"
            ]
          },
          "metadata": {
            "tags": []
          },
          "execution_count": 331
        }
      ]
    },
    {
      "cell_type": "code",
      "metadata": {
        "id": "ksHGiChTrQP5",
        "outputId": "854172ac-fbfa-4508-b735-aab301b08869",
        "colab": {
          "base_uri": "https://localhost:8080/",
          "height": 34
        }
      },
      "source": [
        "import hashlib\n",
        "h1 = hashlib.new('sha256', newsum.encode('utf8')).hexdigest()\n",
        "h2 = hashlib.new('sha256',oldsum.encode('utf8')).hexdigest()\n",
        "\n",
        "h1 == h2"
      ],
      "execution_count": 332,
      "outputs": [
        {
          "output_type": "execute_result",
          "data": {
            "text/plain": [
              "True"
            ]
          },
          "metadata": {
            "tags": []
          },
          "execution_count": 332
        }
      ]
    },
    {
      "cell_type": "code",
      "metadata": {
        "id": "cAJETPjZfKpD",
        "outputId": "f79177a5-446c-480f-af2e-9c190cc4fc3e",
        "colab": {
          "base_uri": "https://localhost:8080/",
          "height": 35
        }
      },
      "source": [
        "h1"
      ],
      "execution_count": 335,
      "outputs": [
        {
          "output_type": "execute_result",
          "data": {
            "application/vnd.google.colaboratory.intrinsic+json": {
              "type": "string"
            },
            "text/plain": [
              "'6dcfce2a698e4dace5cbaf44d916b7d380e4d298ac7b439ebfdfd40664d15cb2'"
            ]
          },
          "metadata": {
            "tags": []
          },
          "execution_count": 335
        }
      ]
    },
    {
      "cell_type": "code",
      "metadata": {
        "id": "q7hljG-r0g3M",
        "outputId": "e0427712-3060-4738-a31d-d4ecbc1d1efa",
        "colab": {
          "base_uri": "https://localhost:8080/",
          "height": 35
        }
      },
      "source": [
        "item['sha256']"
      ],
      "execution_count": 337,
      "outputs": [
        {
          "output_type": "execute_result",
          "data": {
            "application/vnd.google.colaboratory.intrinsic+json": {
              "type": "string"
            },
            "text/plain": [
              "'465b7af306327e0092c9002e156fa46aaae5bf9b44364823ee3b46d9b979ec66'"
            ]
          },
          "metadata": {
            "tags": []
          },
          "execution_count": 337
        }
      ]
    },
    {
      "cell_type": "code",
      "metadata": {
        "id": "e1OYU2Y2oCSm"
      },
      "source": [
        "for url in nomatch:\n",
        "\n",
        "  if 'theguardian.com' in url:\n",
        "    news_content[url] = \"\"\n",
        "\n",
        "  for id,item in news_urls.items():\n",
        "    if item['url'] == url:\n",
        "      item['legacy'] = True\n",
        "      break\n",
        "\n",
        "with open(\"news_urls.json\",'w') as f:\n",
        "  json.dump(news_urls, f, indent=2)\n",
        "  \n",
        "with open(\"news_content.json\",\"w\") as f:\n",
        "  json.dump(news_content, f, indent=2)"
      ],
      "execution_count": null,
      "outputs": []
    },
    {
      "cell_type": "code",
      "metadata": {
        "id": "PeEt8iZtoFhN"
      },
      "source": [
        "with open(\"news_urls.json\",'w') as f:\n",
        "  json.dump(news_urls, f, indent=2)"
      ],
      "execution_count": null,
      "outputs": []
    },
    {
      "cell_type": "code",
      "metadata": {
        "id": "jumb9HnEJ6UK"
      },
      "source": [
        "for id, item in news_urls.items():\n",
        "\n",
        "  if item['url'] in nomatch and 'theguardian' in item['url']:\n",
        "    news_content[item['url']] = \"\"\n",
        "    news_urls[id]['legacy'] = False\n",
        "\n",
        "with open(\"news_urls.json\",'w') as f:\n",
        "  json.dump(news_urls, f, indent=2)\n",
        "\n",
        "with open(\"news_content.json\",\"w\") as f:\n",
        "  json.dump(news_content, f, indent=2)"
      ],
      "execution_count": 198,
      "outputs": []
    },
    {
      "cell_type": "code",
      "metadata": {
        "id": "aG1QQUt3oJoH"
      },
      "source": [
        ""
      ],
      "execution_count": null,
      "outputs": []
    }
  ]
}